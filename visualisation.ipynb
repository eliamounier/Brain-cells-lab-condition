{
 "cells": [
  {
   "cell_type": "code",
   "execution_count": 1,
   "metadata": {},
   "outputs": [
    {
     "name": "stderr",
     "output_type": "stream",
     "text": [
      "\u001b[32m\u001b[1m  Activating\u001b[22m\u001b[39m project at `~/.julia/dev/MLCourse`\n"
     ]
    }
   ],
   "source": [
    "using Pkg; Pkg.activate(joinpath(Pkg.devdir(), \"MLCourse\"))\n",
    "using CSV, DataFrames, Plots, OpenML , MLJ, Serialization"
   ]
  },
  {
   "attachments": {},
   "cell_type": "markdown",
   "metadata": {},
   "source": [
    "# Raw Data Visualisation"
   ]
  },
  {
   "attachments": {},
   "cell_type": "markdown",
   "metadata": {},
   "source": [
    "Let's start looking at the raw training data:"
   ]
  },
  {
   "cell_type": "code",
   "execution_count": 3,
   "metadata": {},
   "outputs": [
    {
     "data": {
      "text/html": [
       "<div class=\"data-frame\"><p>5,000 rows × 32,286 columns (omitted printing of 32277 columns)</p><table class=\"data-frame\"><thead><tr><th></th><th>Xkr4</th><th>Gm1992</th><th>Gm19938</th><th>Gm37381</th><th>Rp1</th><th>Sox17</th><th>Gm37587</th><th>Gm37323</th><th>Mrpl15</th></tr><tr><th></th><th title=\"Float64\">Float64</th><th title=\"Float64\">Float64</th><th title=\"Float64\">Float64</th><th title=\"Float64\">Float64</th><th title=\"Float64\">Float64</th><th title=\"Float64\">Float64</th><th title=\"Float64\">Float64</th><th title=\"Float64\">Float64</th><th title=\"Float64\">Float64</th></tr></thead><tbody><tr><th>1</th><td>2.19038</td><td>0.0</td><td>0.0</td><td>0.0</td><td>0.0</td><td>0.0</td><td>0.0</td><td>0.0</td><td>0.0</td></tr><tr><th>2</th><td>2.86198</td><td>0.0</td><td>0.506726</td><td>0.0</td><td>0.0</td><td>0.0</td><td>0.0</td><td>0.0</td><td>0.0</td></tr><tr><th>3</th><td>2.76676</td><td>0.0</td><td>0.629614</td><td>0.0</td><td>0.0</td><td>0.0</td><td>0.0</td><td>0.0</td><td>0.0</td></tr><tr><th>4</th><td>2.14643</td><td>0.0</td><td>0.0</td><td>0.0</td><td>0.0</td><td>0.0</td><td>0.0</td><td>0.0</td><td>0.0</td></tr><tr><th>5</th><td>2.84005</td><td>0.0</td><td>0.0</td><td>0.0</td><td>0.0</td><td>0.0</td><td>0.0</td><td>0.0</td><td>0.0</td></tr><tr><th>6</th><td>0.0</td><td>0.0</td><td>0.0</td><td>0.0</td><td>0.0</td><td>0.0</td><td>0.0</td><td>0.0</td><td>0.0</td></tr><tr><th>7</th><td>1.79552</td><td>0.0</td><td>0.0</td><td>0.0</td><td>0.0</td><td>0.0</td><td>0.0</td><td>0.0</td><td>0.0</td></tr><tr><th>8</th><td>1.96702</td><td>0.0</td><td>0.0</td><td>0.0</td><td>0.0</td><td>0.0</td><td>0.0</td><td>0.0</td><td>0.0</td></tr><tr><th>9</th><td>3.02083</td><td>0.0</td><td>0.374098</td><td>0.0</td><td>0.0</td><td>0.0</td><td>0.0</td><td>0.0</td><td>0.0</td></tr><tr><th>10</th><td>1.97939</td><td>0.0</td><td>0.0</td><td>0.0</td><td>0.0</td><td>0.0</td><td>0.0</td><td>0.0</td><td>0.0</td></tr><tr><th>11</th><td>1.70163</td><td>0.0</td><td>0.494946</td><td>0.0</td><td>0.0</td><td>0.0</td><td>0.0</td><td>0.0</td><td>0.0</td></tr><tr><th>12</th><td>1.29696</td><td>0.0</td><td>0.0</td><td>0.0</td><td>0.0</td><td>0.0</td><td>0.0</td><td>0.0</td><td>0.0</td></tr><tr><th>13</th><td>2.80296</td><td>0.0</td><td>0.0</td><td>0.0</td><td>0.0</td><td>0.0</td><td>0.0</td><td>0.0</td><td>0.0</td></tr><tr><th>14</th><td>2.84399</td><td>0.0</td><td>0.853853</td><td>0.0</td><td>0.0</td><td>0.0</td><td>0.0</td><td>0.0</td><td>0.0</td></tr><tr><th>15</th><td>2.34245</td><td>0.0</td><td>1.25518</td><td>0.0</td><td>0.0</td><td>0.0</td><td>0.0</td><td>0.0</td><td>0.0</td></tr><tr><th>16</th><td>1.74014</td><td>0.0</td><td>0.0</td><td>1.20868</td><td>0.0</td><td>0.0</td><td>0.0</td><td>0.0</td><td>0.0</td></tr><tr><th>17</th><td>2.29357</td><td>0.0</td><td>0.0</td><td>0.0</td><td>0.0</td><td>0.0</td><td>0.0</td><td>0.0</td><td>0.0</td></tr><tr><th>18</th><td>1.75521</td><td>0.0</td><td>0.0</td><td>0.0</td><td>0.0</td><td>0.0</td><td>0.0</td><td>0.0</td><td>1.22152</td></tr><tr><th>19</th><td>3.47721</td><td>0.0</td><td>0.0</td><td>0.0</td><td>0.0</td><td>0.0</td><td>0.0</td><td>0.0</td><td>0.0</td></tr><tr><th>20</th><td>1.53123</td><td>0.0</td><td>0.0</td><td>0.0</td><td>0.0</td><td>0.0</td><td>0.0</td><td>0.0</td><td>0.0</td></tr><tr><th>21</th><td>2.21617</td><td>0.0</td><td>0.0</td><td>0.0</td><td>0.0</td><td>0.0</td><td>0.0</td><td>0.0</td><td>0.0</td></tr><tr><th>22</th><td>1.71503</td><td>0.0</td><td>0.0</td><td>0.0</td><td>0.0</td><td>0.0</td><td>0.0</td><td>0.0</td><td>0.565015</td></tr><tr><th>23</th><td>2.15061</td><td>0.0</td><td>0.0</td><td>0.0</td><td>0.0</td><td>0.0</td><td>0.0</td><td>0.0</td><td>0.0</td></tr><tr><th>24</th><td>2.77058</td><td>0.311206</td><td>0.0</td><td>0.0</td><td>0.0</td><td>0.0</td><td>0.0</td><td>0.0</td><td>0.0</td></tr><tr><th>&vellip;</th><td>&vellip;</td><td>&vellip;</td><td>&vellip;</td><td>&vellip;</td><td>&vellip;</td><td>&vellip;</td><td>&vellip;</td><td>&vellip;</td><td>&vellip;</td></tr></tbody></table></div>"
      ],
      "text/latex": [
       "\\begin{tabular}{r|cccccccccc}\n",
       "\t& Xkr4 & Gm1992 & Gm19938 & Gm37381 & Rp1 & Sox17 & Gm37587 & Gm37323 & Mrpl15 & \\\\\n",
       "\t\\hline\n",
       "\t& Float64 & Float64 & Float64 & Float64 & Float64 & Float64 & Float64 & Float64 & Float64 & \\\\\n",
       "\t\\hline\n",
       "\t1 & 2.19038 & 0.0 & 0.0 & 0.0 & 0.0 & 0.0 & 0.0 & 0.0 & 0.0 & $\\dots$ \\\\\n",
       "\t2 & 2.86198 & 0.0 & 0.506726 & 0.0 & 0.0 & 0.0 & 0.0 & 0.0 & 0.0 & $\\dots$ \\\\\n",
       "\t3 & 2.76676 & 0.0 & 0.629614 & 0.0 & 0.0 & 0.0 & 0.0 & 0.0 & 0.0 & $\\dots$ \\\\\n",
       "\t4 & 2.14643 & 0.0 & 0.0 & 0.0 & 0.0 & 0.0 & 0.0 & 0.0 & 0.0 & $\\dots$ \\\\\n",
       "\t5 & 2.84005 & 0.0 & 0.0 & 0.0 & 0.0 & 0.0 & 0.0 & 0.0 & 0.0 & $\\dots$ \\\\\n",
       "\t6 & 0.0 & 0.0 & 0.0 & 0.0 & 0.0 & 0.0 & 0.0 & 0.0 & 0.0 & $\\dots$ \\\\\n",
       "\t7 & 1.79552 & 0.0 & 0.0 & 0.0 & 0.0 & 0.0 & 0.0 & 0.0 & 0.0 & $\\dots$ \\\\\n",
       "\t8 & 1.96702 & 0.0 & 0.0 & 0.0 & 0.0 & 0.0 & 0.0 & 0.0 & 0.0 & $\\dots$ \\\\\n",
       "\t9 & 3.02083 & 0.0 & 0.374098 & 0.0 & 0.0 & 0.0 & 0.0 & 0.0 & 0.0 & $\\dots$ \\\\\n",
       "\t10 & 1.97939 & 0.0 & 0.0 & 0.0 & 0.0 & 0.0 & 0.0 & 0.0 & 0.0 & $\\dots$ \\\\\n",
       "\t11 & 1.70163 & 0.0 & 0.494946 & 0.0 & 0.0 & 0.0 & 0.0 & 0.0 & 0.0 & $\\dots$ \\\\\n",
       "\t12 & 1.29696 & 0.0 & 0.0 & 0.0 & 0.0 & 0.0 & 0.0 & 0.0 & 0.0 & $\\dots$ \\\\\n",
       "\t13 & 2.80296 & 0.0 & 0.0 & 0.0 & 0.0 & 0.0 & 0.0 & 0.0 & 0.0 & $\\dots$ \\\\\n",
       "\t14 & 2.84399 & 0.0 & 0.853853 & 0.0 & 0.0 & 0.0 & 0.0 & 0.0 & 0.0 & $\\dots$ \\\\\n",
       "\t15 & 2.34245 & 0.0 & 1.25518 & 0.0 & 0.0 & 0.0 & 0.0 & 0.0 & 0.0 & $\\dots$ \\\\\n",
       "\t16 & 1.74014 & 0.0 & 0.0 & 1.20868 & 0.0 & 0.0 & 0.0 & 0.0 & 0.0 & $\\dots$ \\\\\n",
       "\t17 & 2.29357 & 0.0 & 0.0 & 0.0 & 0.0 & 0.0 & 0.0 & 0.0 & 0.0 & $\\dots$ \\\\\n",
       "\t18 & 1.75521 & 0.0 & 0.0 & 0.0 & 0.0 & 0.0 & 0.0 & 0.0 & 1.22152 & $\\dots$ \\\\\n",
       "\t19 & 3.47721 & 0.0 & 0.0 & 0.0 & 0.0 & 0.0 & 0.0 & 0.0 & 0.0 & $\\dots$ \\\\\n",
       "\t20 & 1.53123 & 0.0 & 0.0 & 0.0 & 0.0 & 0.0 & 0.0 & 0.0 & 0.0 & $\\dots$ \\\\\n",
       "\t21 & 2.21617 & 0.0 & 0.0 & 0.0 & 0.0 & 0.0 & 0.0 & 0.0 & 0.0 & $\\dots$ \\\\\n",
       "\t22 & 1.71503 & 0.0 & 0.0 & 0.0 & 0.0 & 0.0 & 0.0 & 0.0 & 0.565015 & $\\dots$ \\\\\n",
       "\t23 & 2.15061 & 0.0 & 0.0 & 0.0 & 0.0 & 0.0 & 0.0 & 0.0 & 0.0 & $\\dots$ \\\\\n",
       "\t24 & 2.77058 & 0.311206 & 0.0 & 0.0 & 0.0 & 0.0 & 0.0 & 0.0 & 0.0 & $\\dots$ \\\\\n",
       "\t$\\dots$ & $\\dots$ & $\\dots$ & $\\dots$ & $\\dots$ & $\\dots$ & $\\dots$ & $\\dots$ & $\\dots$ & $\\dots$ &  \\\\\n",
       "\\end{tabular}\n"
      ],
      "text/plain": [
       "\u001b[1m5000×32286 DataFrame\u001b[0m\n",
       "\u001b[1m  Row \u001b[0m│\u001b[1m Xkr4    \u001b[0m\u001b[1m Gm1992  \u001b[0m\u001b[1m Gm19938  \u001b[0m\u001b[1m Gm37381 \u001b[0m\u001b[1m Rp1     \u001b[0m\u001b[1m Sox17   \u001b[0m\u001b[1m Gm37587 \u001b[0m\u001b[1m Gm3732\u001b[0m ⋯\n",
       "\u001b[1m      \u001b[0m│\u001b[90m Float64 \u001b[0m\u001b[90m Float64 \u001b[0m\u001b[90m Float64  \u001b[0m\u001b[90m Float64 \u001b[0m\u001b[90m Float64 \u001b[0m\u001b[90m Float64 \u001b[0m\u001b[90m Float64 \u001b[0m\u001b[90m Float6\u001b[0m ⋯\n",
       "──────┼─────────────────────────────────────────────────────────────────────────\n",
       "    1 │ 2.19038      0.0  0.0           0.0      0.0      0.0      0.0      0. ⋯\n",
       "    2 │ 2.86198      0.0  0.506726      0.0      0.0      0.0      0.0      0.\n",
       "    3 │ 2.76676      0.0  0.629614      0.0      0.0      0.0      0.0      0.\n",
       "    4 │ 2.14643      0.0  0.0           0.0      0.0      0.0      0.0      0.\n",
       "    5 │ 2.84005      0.0  0.0           0.0      0.0      0.0      0.0      0. ⋯\n",
       "    6 │ 0.0          0.0  0.0           0.0      0.0      0.0      0.0      0.\n",
       "    7 │ 1.79552      0.0  0.0           0.0      0.0      0.0      0.0      0.\n",
       "    8 │ 1.96702      0.0  0.0           0.0      0.0      0.0      0.0      0.\n",
       "  ⋮   │    ⋮        ⋮        ⋮         ⋮        ⋮        ⋮        ⋮        ⋮   ⋱\n",
       " 4994 │ 2.93918      0.0  0.0           0.0      0.0      0.0      0.0      0. ⋯\n",
       " 4995 │ 2.09944      0.0  0.0           0.0      0.0      0.0      0.0      0.\n",
       " 4996 │ 2.10858      0.0  0.0           0.0      0.0      0.0      0.0      0.\n",
       " 4997 │ 3.10897      0.0  0.783343      0.0      0.0      0.0      0.0      0.\n",
       " 4998 │ 2.02595      0.0  0.0           0.0      0.0      0.0      0.0      0. ⋯\n",
       " 4999 │ 1.22754      0.0  0.79137       0.0      0.0      0.0      0.0      0.\n",
       " 5000 │ 2.48507      0.0  0.55012       0.0      0.0      0.0      0.0      0.\n",
       "\u001b[36m                                             32279 columns and 4985 rows omitted\u001b[0m"
      ]
     },
     "metadata": {},
     "output_type": "display_data"
    }
   ],
   "source": [
    "train_data = CSV.read(\"DATA/train.csv\", DataFrame) "
   ]
  },
  {
   "cell_type": "code",
   "execution_count": 4,
   "metadata": {},
   "outputs": [
    {
     "data": {
      "text/plain": [
       "1556"
      ]
     },
     "metadata": {},
     "output_type": "display_data"
    }
   ],
   "source": [
    "count(train_data.labels.== \"KAT5\") #returns total number of cells in category \"KAT5\""
   ]
  },
  {
   "cell_type": "code",
   "execution_count": 5,
   "metadata": {},
   "outputs": [
    {
     "data": {
      "text/plain": [
       "1592"
      ]
     },
     "metadata": {},
     "output_type": "display_data"
    }
   ],
   "source": [
    "count(train_data.labels.== \"eGFP\") #returns total number of cells in category \"eGFP\""
   ]
  },
  {
   "cell_type": "code",
   "execution_count": 6,
   "metadata": {},
   "outputs": [
    {
     "data": {
      "text/plain": [
       "1852"
      ]
     },
     "metadata": {},
     "output_type": "display_data"
    }
   ],
   "source": [
    "\n",
    "count(train_data.labels.== \"CBP\")#returns total number of cells in category \"CBP\""
   ]
  },
  {
   "attachments": {},
   "cell_type": "markdown",
   "metadata": {},
   "source": [
    "We can tell from these numbers that: in the training data set, all 3 categories are well represented."
   ]
  },
  {
   "cell_type": "code",
   "execution_count": 7,
   "metadata": {},
   "outputs": [
    {
     "data": {
      "text/html": [
       "<div class=\"data-frame\"><p>32,286 rows × 7 columns</p><table class=\"data-frame\"><thead><tr><th></th><th>variable</th><th>mean</th><th>min</th><th>median</th><th>max</th><th>nmissing</th><th>eltype</th></tr><tr><th></th><th title=\"Symbol\">Symbol</th><th title=\"Union{Nothing, Float64}\">Union…</th><th title=\"Any\">Any</th><th title=\"Union{Nothing, Float64}\">Union…</th><th title=\"Any\">Any</th><th title=\"Int64\">Int64</th><th title=\"DataType\">DataType</th></tr></thead><tbody><tr><th>1</th><td>Xkr4</td><td>2.41064</td><td>0.0</td><td>2.51936</td><td>4.26052</td><td>0</td><td>Float64</td></tr><tr><th>2</th><td>Gm1992</td><td>0.0232695</td><td>0.0</td><td>0.0</td><td>1.8822</td><td>0</td><td>Float64</td></tr><tr><th>3</th><td>Gm19938</td><td>0.214613</td><td>0.0</td><td>0.0</td><td>1.8791</td><td>0</td><td>Float64</td></tr><tr><th>4</th><td>Gm37381</td><td>0.000976904</td><td>0.0</td><td>0.0</td><td>1.20868</td><td>0</td><td>Float64</td></tr><tr><th>5</th><td>Rp1</td><td>0.00707406</td><td>0.0</td><td>0.0</td><td>1.34236</td><td>0</td><td>Float64</td></tr><tr><th>6</th><td>Sox17</td><td>0.000259006</td><td>0.0</td><td>0.0</td><td>1.29503</td><td>0</td><td>Float64</td></tr><tr><th>7</th><td>Gm37587</td><td>0.0</td><td>0.0</td><td>0.0</td><td>0.0</td><td>0</td><td>Float64</td></tr><tr><th>8</th><td>Gm37323</td><td>0.000239274</td><td>0.0</td><td>0.0</td><td>0.721071</td><td>0</td><td>Float64</td></tr><tr><th>9</th><td>Mrpl15</td><td>0.133054</td><td>0.0</td><td>0.0</td><td>2.3545</td><td>0</td><td>Float64</td></tr><tr><th>10</th><td>Lypla1</td><td>0.158978</td><td>0.0</td><td>0.0</td><td>2.5327</td><td>0</td><td>Float64</td></tr><tr><th>11</th><td>Tcea1</td><td>0.334586</td><td>0.0</td><td>0.0</td><td>2.71235</td><td>0</td><td>Float64</td></tr><tr><th>12</th><td>Rgs20</td><td>0.597984</td><td>0.0</td><td>0.42571</td><td>4.13995</td><td>0</td><td>Float64</td></tr><tr><th>13</th><td>Gm16041</td><td>0.0009945</td><td>0.0</td><td>0.0</td><td>0.952959</td><td>0</td><td>Float64</td></tr><tr><th>14</th><td>Atp6v1h</td><td>0.795727</td><td>0.0</td><td>0.868493</td><td>2.81927</td><td>0</td><td>Float64</td></tr><tr><th>15</th><td>Oprk1</td><td>0.0712954</td><td>0.0</td><td>0.0</td><td>2.40479</td><td>0</td><td>Float64</td></tr><tr><th>16</th><td>Npbwr1</td><td>0.000303745</td><td>0.0</td><td>0.0</td><td>0.729701</td><td>0</td><td>Float64</td></tr><tr><th>17</th><td>Rb1cc1</td><td>1.03796</td><td>0.0</td><td>1.13049</td><td>2.80578</td><td>0</td><td>Float64</td></tr><tr><th>18</th><td>4732440D04Rik</td><td>0.0583332</td><td>0.0</td><td>0.0</td><td>1.83957</td><td>0</td><td>Float64</td></tr><tr><th>19</th><td>Alkal1</td><td>0.0143309</td><td>0.0</td><td>0.0</td><td>1.89286</td><td>0</td><td>Float64</td></tr><tr><th>20</th><td>St18</td><td>0.100732</td><td>0.0</td><td>0.0</td><td>3.29594</td><td>0</td><td>Float64</td></tr><tr><th>21</th><td>Pcmtd1</td><td>0.900932</td><td>0.0</td><td>0.977625</td><td>2.83064</td><td>0</td><td>Float64</td></tr><tr><th>22</th><td>Gm26901</td><td>0.209503</td><td>0.0</td><td>0.0</td><td>2.3545</td><td>0</td><td>Float64</td></tr><tr><th>23</th><td>Gm30414</td><td>0.000770425</td><td>0.0</td><td>0.0</td><td>1.51788</td><td>0</td><td>Float64</td></tr><tr><th>24</th><td>Sntg1</td><td>2.29345</td><td>0.0</td><td>2.38264</td><td>4.67668</td><td>0</td><td>Float64</td></tr><tr><th>&vellip;</th><td>&vellip;</td><td>&vellip;</td><td>&vellip;</td><td>&vellip;</td><td>&vellip;</td><td>&vellip;</td><td>&vellip;</td></tr></tbody></table></div>"
      ],
      "text/latex": [
       "\\begin{tabular}{r|ccccccc}\n",
       "\t& variable & mean & min & median & max & nmissing & eltype\\\\\n",
       "\t\\hline\n",
       "\t& Symbol & Union… & Any & Union… & Any & Int64 & DataType\\\\\n",
       "\t\\hline\n",
       "\t1 & Xkr4 & 2.41064 & 0.0 & 2.51936 & 4.26052 & 0 & Float64 \\\\\n",
       "\t2 & Gm1992 & 0.0232695 & 0.0 & 0.0 & 1.8822 & 0 & Float64 \\\\\n",
       "\t3 & Gm19938 & 0.214613 & 0.0 & 0.0 & 1.8791 & 0 & Float64 \\\\\n",
       "\t4 & Gm37381 & 0.000976904 & 0.0 & 0.0 & 1.20868 & 0 & Float64 \\\\\n",
       "\t5 & Rp1 & 0.00707406 & 0.0 & 0.0 & 1.34236 & 0 & Float64 \\\\\n",
       "\t6 & Sox17 & 0.000259006 & 0.0 & 0.0 & 1.29503 & 0 & Float64 \\\\\n",
       "\t7 & Gm37587 & 0.0 & 0.0 & 0.0 & 0.0 & 0 & Float64 \\\\\n",
       "\t8 & Gm37323 & 0.000239274 & 0.0 & 0.0 & 0.721071 & 0 & Float64 \\\\\n",
       "\t9 & Mrpl15 & 0.133054 & 0.0 & 0.0 & 2.3545 & 0 & Float64 \\\\\n",
       "\t10 & Lypla1 & 0.158978 & 0.0 & 0.0 & 2.5327 & 0 & Float64 \\\\\n",
       "\t11 & Tcea1 & 0.334586 & 0.0 & 0.0 & 2.71235 & 0 & Float64 \\\\\n",
       "\t12 & Rgs20 & 0.597984 & 0.0 & 0.42571 & 4.13995 & 0 & Float64 \\\\\n",
       "\t13 & Gm16041 & 0.0009945 & 0.0 & 0.0 & 0.952959 & 0 & Float64 \\\\\n",
       "\t14 & Atp6v1h & 0.795727 & 0.0 & 0.868493 & 2.81927 & 0 & Float64 \\\\\n",
       "\t15 & Oprk1 & 0.0712954 & 0.0 & 0.0 & 2.40479 & 0 & Float64 \\\\\n",
       "\t16 & Npbwr1 & 0.000303745 & 0.0 & 0.0 & 0.729701 & 0 & Float64 \\\\\n",
       "\t17 & Rb1cc1 & 1.03796 & 0.0 & 1.13049 & 2.80578 & 0 & Float64 \\\\\n",
       "\t18 & 4732440D04Rik & 0.0583332 & 0.0 & 0.0 & 1.83957 & 0 & Float64 \\\\\n",
       "\t19 & Alkal1 & 0.0143309 & 0.0 & 0.0 & 1.89286 & 0 & Float64 \\\\\n",
       "\t20 & St18 & 0.100732 & 0.0 & 0.0 & 3.29594 & 0 & Float64 \\\\\n",
       "\t21 & Pcmtd1 & 0.900932 & 0.0 & 0.977625 & 2.83064 & 0 & Float64 \\\\\n",
       "\t22 & Gm26901 & 0.209503 & 0.0 & 0.0 & 2.3545 & 0 & Float64 \\\\\n",
       "\t23 & Gm30414 & 0.000770425 & 0.0 & 0.0 & 1.51788 & 0 & Float64 \\\\\n",
       "\t24 & Sntg1 & 2.29345 & 0.0 & 2.38264 & 4.67668 & 0 & Float64 \\\\\n",
       "\t$\\dots$ & $\\dots$ & $\\dots$ & $\\dots$ & $\\dots$ & $\\dots$ & $\\dots$ & $\\dots$ \\\\\n",
       "\\end{tabular}\n"
      ],
      "text/plain": [
       "\u001b[1m32286×7 DataFrame\u001b[0m\n",
       "\u001b[1m   Row \u001b[0m│\u001b[1m variable   \u001b[0m\u001b[1m mean        \u001b[0m\u001b[1m min \u001b[0m\u001b[1m median  \u001b[0m\u001b[1m max      \u001b[0m\u001b[1m nmissing \u001b[0m\u001b[1m eltype   \u001b[0m\n",
       "\u001b[1m       \u001b[0m│\u001b[90m Symbol     \u001b[0m\u001b[90m Union…      \u001b[0m\u001b[90m Any \u001b[0m\u001b[90m Union…  \u001b[0m\u001b[90m Any      \u001b[0m\u001b[90m Int64    \u001b[0m\u001b[90m DataType \u001b[0m\n",
       "───────┼─────────────────────────────────────────────────────────────────────\n",
       "     1 │ Xkr4        2.41064      0.0  2.51936  4.26052          0  Float64\n",
       "     2 │ Gm1992      0.0232695    0.0  0.0      1.8822           0  Float64\n",
       "     3 │ Gm19938     0.214613     0.0  0.0      1.8791           0  Float64\n",
       "     4 │ Gm37381     0.000976904  0.0  0.0      1.20868          0  Float64\n",
       "     5 │ Rp1         0.00707406   0.0  0.0      1.34236          0  Float64\n",
       "     6 │ Sox17       0.000259006  0.0  0.0      1.29503          0  Float64\n",
       "     7 │ Gm37587     0.0          0.0  0.0      0.0              0  Float64\n",
       "     8 │ Gm37323     0.000239274  0.0  0.0      0.721071         0  Float64\n",
       "   ⋮   │     ⋮            ⋮        ⋮      ⋮        ⋮         ⋮         ⋮\n",
       " 32280 │ AC124606.2  0.0          0.0  0.0      0.0              0  Float64\n",
       " 32281 │ AC124606.1  0.0          0.0  0.0      0.0              0  Float64\n",
       " 32282 │ AC133095.2  0.0          0.0  0.0      0.0              0  Float64\n",
       " 32283 │ AC133095.1  0.0          0.0  0.0      0.0              0  Float64\n",
       " 32284 │ AC234645.1  0.0          0.0  0.0      0.0              0  Float64\n",
       " 32285 │ AC149090.1  1.4093       0.0  1.5325   3.51328          0  Float64\n",
       " 32286 │ labels     \u001b[90m             \u001b[0m CBP \u001b[90m         \u001b[0m eGFP             0  String7\n",
       "\u001b[36m                                                           32271 rows omitted\u001b[0m"
      ]
     },
     "metadata": {},
     "output_type": "display_data"
    }
   ],
   "source": [
    "describe(train_data) #returns statistics informations about each predictors"
   ]
  },
  {
   "attachments": {},
   "cell_type": "markdown",
   "metadata": {},
   "source": [
    "We can see that some genes have a mean expression of zero, plus a minimal value and a maximal value of 0. This type of parameters are useless to our model prediction. Therefore some data cleaning needs to be done. "
   ]
  },
  {
   "attachments": {},
   "cell_type": "markdown",
   "metadata": {},
   "source": [
    "# Data Treatment"
   ]
  },
  {
   "attachments": {},
   "cell_type": "markdown",
   "metadata": {},
   "source": [
    "## 1-Removal of constant and correlated parameters"
   ]
  },
  {
   "attachments": {},
   "cell_type": "markdown",
   "metadata": {},
   "source": [
    "In Data_treatment.jl :\n",
    "- we tested if we had missing data: none found\n",
    "- then we removed: \n",
    "    - the constant parameters\n",
    "    - the correlated pararameters\n"
   ]
  },
  {
   "cell_type": "code",
   "execution_count": 2,
   "metadata": {},
   "outputs": [
    {
     "data": {
      "text/html": [
       "<div class=\"data-frame\"><p>5,000 rows × 26,099 columns (omitted printing of 26090 columns)</p><table class=\"data-frame\"><thead><tr><th></th><th>Xkr4</th><th>Gm1992</th><th>Gm19938</th><th>Gm37381</th><th>Rp1</th><th>Sox17</th><th>Gm37323</th><th>Mrpl15</th><th>Lypla1</th></tr><tr><th></th><th title=\"Float64\">Float64</th><th title=\"Float64\">Float64</th><th title=\"Float64\">Float64</th><th title=\"Float64\">Float64</th><th title=\"Float64\">Float64</th><th title=\"Float64\">Float64</th><th title=\"Float64\">Float64</th><th title=\"Float64\">Float64</th><th title=\"Float64\">Float64</th></tr></thead><tbody><tr><th>1</th><td>2.19038</td><td>0.0</td><td>0.0</td><td>0.0</td><td>0.0</td><td>0.0</td><td>0.0</td><td>0.0</td><td>0.0</td></tr><tr><th>2</th><td>2.86198</td><td>0.0</td><td>0.506726</td><td>0.0</td><td>0.0</td><td>0.0</td><td>0.0</td><td>0.0</td><td>0.0</td></tr><tr><th>3</th><td>2.76676</td><td>0.0</td><td>0.629614</td><td>0.0</td><td>0.0</td><td>0.0</td><td>0.0</td><td>0.0</td><td>0.0</td></tr><tr><th>4</th><td>2.14643</td><td>0.0</td><td>0.0</td><td>0.0</td><td>0.0</td><td>0.0</td><td>0.0</td><td>0.0</td><td>0.0</td></tr><tr><th>5</th><td>2.84005</td><td>0.0</td><td>0.0</td><td>0.0</td><td>0.0</td><td>0.0</td><td>0.0</td><td>0.0</td><td>0.0</td></tr><tr><th>6</th><td>0.0</td><td>0.0</td><td>0.0</td><td>0.0</td><td>0.0</td><td>0.0</td><td>0.0</td><td>0.0</td><td>0.0</td></tr><tr><th>7</th><td>1.79552</td><td>0.0</td><td>0.0</td><td>0.0</td><td>0.0</td><td>0.0</td><td>0.0</td><td>0.0</td><td>0.0</td></tr><tr><th>8</th><td>1.96702</td><td>0.0</td><td>0.0</td><td>0.0</td><td>0.0</td><td>0.0</td><td>0.0</td><td>0.0</td><td>0.0</td></tr><tr><th>9</th><td>3.02083</td><td>0.0</td><td>0.374098</td><td>0.0</td><td>0.0</td><td>0.0</td><td>0.0</td><td>0.0</td><td>0.0</td></tr><tr><th>10</th><td>1.97939</td><td>0.0</td><td>0.0</td><td>0.0</td><td>0.0</td><td>0.0</td><td>0.0</td><td>0.0</td><td>0.0</td></tr><tr><th>11</th><td>1.70163</td><td>0.0</td><td>0.494946</td><td>0.0</td><td>0.0</td><td>0.0</td><td>0.0</td><td>0.0</td><td>0.0</td></tr><tr><th>12</th><td>1.29696</td><td>0.0</td><td>0.0</td><td>0.0</td><td>0.0</td><td>0.0</td><td>0.0</td><td>0.0</td><td>0.845473</td></tr><tr><th>13</th><td>2.80296</td><td>0.0</td><td>0.0</td><td>0.0</td><td>0.0</td><td>0.0</td><td>0.0</td><td>0.0</td><td>0.514993</td></tr><tr><th>14</th><td>2.84399</td><td>0.0</td><td>0.853853</td><td>0.0</td><td>0.0</td><td>0.0</td><td>0.0</td><td>0.0</td><td>0.0</td></tr><tr><th>15</th><td>2.34245</td><td>0.0</td><td>1.25518</td><td>0.0</td><td>0.0</td><td>0.0</td><td>0.0</td><td>0.0</td><td>0.0</td></tr><tr><th>16</th><td>1.74014</td><td>0.0</td><td>0.0</td><td>1.20868</td><td>0.0</td><td>0.0</td><td>0.0</td><td>0.0</td><td>0.0</td></tr><tr><th>17</th><td>2.29357</td><td>0.0</td><td>0.0</td><td>0.0</td><td>0.0</td><td>0.0</td><td>0.0</td><td>0.0</td><td>0.0</td></tr><tr><th>18</th><td>1.75521</td><td>0.0</td><td>0.0</td><td>0.0</td><td>0.0</td><td>0.0</td><td>0.0</td><td>1.22152</td><td>0.0</td></tr><tr><th>19</th><td>3.47721</td><td>0.0</td><td>0.0</td><td>0.0</td><td>0.0</td><td>0.0</td><td>0.0</td><td>0.0</td><td>0.0</td></tr><tr><th>20</th><td>1.53123</td><td>0.0</td><td>0.0</td><td>0.0</td><td>0.0</td><td>0.0</td><td>0.0</td><td>0.0</td><td>0.0</td></tr><tr><th>21</th><td>2.21617</td><td>0.0</td><td>0.0</td><td>0.0</td><td>0.0</td><td>0.0</td><td>0.0</td><td>0.0</td><td>0.0</td></tr><tr><th>22</th><td>1.71503</td><td>0.0</td><td>0.0</td><td>0.0</td><td>0.0</td><td>0.0</td><td>0.0</td><td>0.565015</td><td>0.0</td></tr><tr><th>23</th><td>2.15061</td><td>0.0</td><td>0.0</td><td>0.0</td><td>0.0</td><td>0.0</td><td>0.0</td><td>0.0</td><td>0.0</td></tr><tr><th>24</th><td>2.77058</td><td>0.311206</td><td>0.0</td><td>0.0</td><td>0.0</td><td>0.0</td><td>0.0</td><td>0.0</td><td>0.311206</td></tr><tr><th>&vellip;</th><td>&vellip;</td><td>&vellip;</td><td>&vellip;</td><td>&vellip;</td><td>&vellip;</td><td>&vellip;</td><td>&vellip;</td><td>&vellip;</td><td>&vellip;</td></tr></tbody></table></div>"
      ],
      "text/latex": [
       "\\begin{tabular}{r|cccccccccc}\n",
       "\t& Xkr4 & Gm1992 & Gm19938 & Gm37381 & Rp1 & Sox17 & Gm37323 & Mrpl15 & Lypla1 & \\\\\n",
       "\t\\hline\n",
       "\t& Float64 & Float64 & Float64 & Float64 & Float64 & Float64 & Float64 & Float64 & Float64 & \\\\\n",
       "\t\\hline\n",
       "\t1 & 2.19038 & 0.0 & 0.0 & 0.0 & 0.0 & 0.0 & 0.0 & 0.0 & 0.0 & $\\dots$ \\\\\n",
       "\t2 & 2.86198 & 0.0 & 0.506726 & 0.0 & 0.0 & 0.0 & 0.0 & 0.0 & 0.0 & $\\dots$ \\\\\n",
       "\t3 & 2.76676 & 0.0 & 0.629614 & 0.0 & 0.0 & 0.0 & 0.0 & 0.0 & 0.0 & $\\dots$ \\\\\n",
       "\t4 & 2.14643 & 0.0 & 0.0 & 0.0 & 0.0 & 0.0 & 0.0 & 0.0 & 0.0 & $\\dots$ \\\\\n",
       "\t5 & 2.84005 & 0.0 & 0.0 & 0.0 & 0.0 & 0.0 & 0.0 & 0.0 & 0.0 & $\\dots$ \\\\\n",
       "\t6 & 0.0 & 0.0 & 0.0 & 0.0 & 0.0 & 0.0 & 0.0 & 0.0 & 0.0 & $\\dots$ \\\\\n",
       "\t7 & 1.79552 & 0.0 & 0.0 & 0.0 & 0.0 & 0.0 & 0.0 & 0.0 & 0.0 & $\\dots$ \\\\\n",
       "\t8 & 1.96702 & 0.0 & 0.0 & 0.0 & 0.0 & 0.0 & 0.0 & 0.0 & 0.0 & $\\dots$ \\\\\n",
       "\t9 & 3.02083 & 0.0 & 0.374098 & 0.0 & 0.0 & 0.0 & 0.0 & 0.0 & 0.0 & $\\dots$ \\\\\n",
       "\t10 & 1.97939 & 0.0 & 0.0 & 0.0 & 0.0 & 0.0 & 0.0 & 0.0 & 0.0 & $\\dots$ \\\\\n",
       "\t11 & 1.70163 & 0.0 & 0.494946 & 0.0 & 0.0 & 0.0 & 0.0 & 0.0 & 0.0 & $\\dots$ \\\\\n",
       "\t12 & 1.29696 & 0.0 & 0.0 & 0.0 & 0.0 & 0.0 & 0.0 & 0.0 & 0.845473 & $\\dots$ \\\\\n",
       "\t13 & 2.80296 & 0.0 & 0.0 & 0.0 & 0.0 & 0.0 & 0.0 & 0.0 & 0.514993 & $\\dots$ \\\\\n",
       "\t14 & 2.84399 & 0.0 & 0.853853 & 0.0 & 0.0 & 0.0 & 0.0 & 0.0 & 0.0 & $\\dots$ \\\\\n",
       "\t15 & 2.34245 & 0.0 & 1.25518 & 0.0 & 0.0 & 0.0 & 0.0 & 0.0 & 0.0 & $\\dots$ \\\\\n",
       "\t16 & 1.74014 & 0.0 & 0.0 & 1.20868 & 0.0 & 0.0 & 0.0 & 0.0 & 0.0 & $\\dots$ \\\\\n",
       "\t17 & 2.29357 & 0.0 & 0.0 & 0.0 & 0.0 & 0.0 & 0.0 & 0.0 & 0.0 & $\\dots$ \\\\\n",
       "\t18 & 1.75521 & 0.0 & 0.0 & 0.0 & 0.0 & 0.0 & 0.0 & 1.22152 & 0.0 & $\\dots$ \\\\\n",
       "\t19 & 3.47721 & 0.0 & 0.0 & 0.0 & 0.0 & 0.0 & 0.0 & 0.0 & 0.0 & $\\dots$ \\\\\n",
       "\t20 & 1.53123 & 0.0 & 0.0 & 0.0 & 0.0 & 0.0 & 0.0 & 0.0 & 0.0 & $\\dots$ \\\\\n",
       "\t21 & 2.21617 & 0.0 & 0.0 & 0.0 & 0.0 & 0.0 & 0.0 & 0.0 & 0.0 & $\\dots$ \\\\\n",
       "\t22 & 1.71503 & 0.0 & 0.0 & 0.0 & 0.0 & 0.0 & 0.0 & 0.565015 & 0.0 & $\\dots$ \\\\\n",
       "\t23 & 2.15061 & 0.0 & 0.0 & 0.0 & 0.0 & 0.0 & 0.0 & 0.0 & 0.0 & $\\dots$ \\\\\n",
       "\t24 & 2.77058 & 0.311206 & 0.0 & 0.0 & 0.0 & 0.0 & 0.0 & 0.0 & 0.311206 & $\\dots$ \\\\\n",
       "\t$\\dots$ & $\\dots$ & $\\dots$ & $\\dots$ & $\\dots$ & $\\dots$ & $\\dots$ & $\\dots$ & $\\dots$ & $\\dots$ &  \\\\\n",
       "\\end{tabular}\n"
      ],
      "text/plain": [
       "\u001b[1m5000×26099 DataFrame\u001b[0m\n",
       "\u001b[1m  Row \u001b[0m│\u001b[1m Xkr4    \u001b[0m\u001b[1m Gm1992  \u001b[0m\u001b[1m Gm19938  \u001b[0m\u001b[1m Gm37381 \u001b[0m\u001b[1m Rp1     \u001b[0m\u001b[1m Sox17   \u001b[0m\u001b[1m Gm37323 \u001b[0m\u001b[1m Mrpl15\u001b[0m ⋯\n",
       "\u001b[1m      \u001b[0m│\u001b[90m Float64 \u001b[0m\u001b[90m Float64 \u001b[0m\u001b[90m Float64  \u001b[0m\u001b[90m Float64 \u001b[0m\u001b[90m Float64 \u001b[0m\u001b[90m Float64 \u001b[0m\u001b[90m Float64 \u001b[0m\u001b[90m Float6\u001b[0m ⋯\n",
       "──────┼─────────────────────────────────────────────────────────────────────────\n",
       "    1 │ 2.19038      0.0  0.0           0.0      0.0      0.0      0.0      0. ⋯\n",
       "    2 │ 2.86198      0.0  0.506726      0.0      0.0      0.0      0.0      0.\n",
       "    3 │ 2.76676      0.0  0.629614      0.0      0.0      0.0      0.0      0.\n",
       "    4 │ 2.14643      0.0  0.0           0.0      0.0      0.0      0.0      0.\n",
       "    5 │ 2.84005      0.0  0.0           0.0      0.0      0.0      0.0      0. ⋯\n",
       "    6 │ 0.0          0.0  0.0           0.0      0.0      0.0      0.0      0.\n",
       "    7 │ 1.79552      0.0  0.0           0.0      0.0      0.0      0.0      0.\n",
       "    8 │ 1.96702      0.0  0.0           0.0      0.0      0.0      0.0      0.\n",
       "  ⋮   │    ⋮        ⋮        ⋮         ⋮        ⋮        ⋮        ⋮        ⋮   ⋱\n",
       " 4994 │ 2.93918      0.0  0.0           0.0      0.0      0.0      0.0      0. ⋯\n",
       " 4995 │ 2.09944      0.0  0.0           0.0      0.0      0.0      0.0      0.\n",
       " 4996 │ 2.10858      0.0  0.0           0.0      0.0      0.0      0.0      0.\n",
       " 4997 │ 3.10897      0.0  0.783343      0.0      0.0      0.0      0.0      0.\n",
       " 4998 │ 2.02595      0.0  0.0           0.0      0.0      0.0      0.0      0. ⋯\n",
       " 4999 │ 1.22754      0.0  0.79137       0.0      0.0      0.0      0.0      0.\n",
       " 5000 │ 2.48507      0.0  0.55012       0.0      0.0      0.0      0.0      0.\n",
       "\u001b[36m                                             26092 columns and 4985 rows omitted\u001b[0m"
      ]
     },
     "metadata": {},
     "output_type": "display_data"
    }
   ],
   "source": [
    "train_data_treated = CSV.read(\"DATA/trainX.csv\", DataFrame)"
   ]
  },
  {
   "cell_type": "code",
   "execution_count": 9,
   "metadata": {},
   "outputs": [
    {
     "data": {
      "text/html": [
       "<div class=\"data-frame\"><p>26,099 rows × 7 columns</p><table class=\"data-frame\"><thead><tr><th></th><th>variable</th><th>mean</th><th>min</th><th>median</th><th>max</th><th>nmissing</th><th>eltype</th></tr><tr><th></th><th title=\"Symbol\">Symbol</th><th title=\"Float64\">Float64</th><th title=\"Float64\">Float64</th><th title=\"Float64\">Float64</th><th title=\"Float64\">Float64</th><th title=\"Int64\">Int64</th><th title=\"DataType\">DataType</th></tr></thead><tbody><tr><th>1</th><td>Xkr4</td><td>2.41064</td><td>0.0</td><td>2.51936</td><td>4.26052</td><td>0</td><td>Float64</td></tr><tr><th>2</th><td>Gm1992</td><td>0.0232695</td><td>0.0</td><td>0.0</td><td>1.8822</td><td>0</td><td>Float64</td></tr><tr><th>3</th><td>Gm19938</td><td>0.214613</td><td>0.0</td><td>0.0</td><td>1.8791</td><td>0</td><td>Float64</td></tr><tr><th>4</th><td>Gm37381</td><td>0.000976904</td><td>0.0</td><td>0.0</td><td>1.20868</td><td>0</td><td>Float64</td></tr><tr><th>5</th><td>Rp1</td><td>0.00707406</td><td>0.0</td><td>0.0</td><td>1.34236</td><td>0</td><td>Float64</td></tr><tr><th>6</th><td>Sox17</td><td>0.000259006</td><td>0.0</td><td>0.0</td><td>1.29503</td><td>0</td><td>Float64</td></tr><tr><th>7</th><td>Gm37323</td><td>0.000239274</td><td>0.0</td><td>0.0</td><td>0.721071</td><td>0</td><td>Float64</td></tr><tr><th>8</th><td>Mrpl15</td><td>0.133054</td><td>0.0</td><td>0.0</td><td>2.3545</td><td>0</td><td>Float64</td></tr><tr><th>9</th><td>Lypla1</td><td>0.158978</td><td>0.0</td><td>0.0</td><td>2.5327</td><td>0</td><td>Float64</td></tr><tr><th>10</th><td>Tcea1</td><td>0.334586</td><td>0.0</td><td>0.0</td><td>2.71235</td><td>0</td><td>Float64</td></tr><tr><th>11</th><td>Rgs20</td><td>0.597984</td><td>0.0</td><td>0.42571</td><td>4.13995</td><td>0</td><td>Float64</td></tr><tr><th>12</th><td>Gm16041</td><td>0.0009945</td><td>0.0</td><td>0.0</td><td>0.952959</td><td>0</td><td>Float64</td></tr><tr><th>13</th><td>Atp6v1h</td><td>0.795727</td><td>0.0</td><td>0.868493</td><td>2.81927</td><td>0</td><td>Float64</td></tr><tr><th>14</th><td>Oprk1</td><td>0.0712954</td><td>0.0</td><td>0.0</td><td>2.40479</td><td>0</td><td>Float64</td></tr><tr><th>15</th><td>Npbwr1</td><td>0.000303745</td><td>0.0</td><td>0.0</td><td>0.729701</td><td>0</td><td>Float64</td></tr><tr><th>16</th><td>Rb1cc1</td><td>1.03796</td><td>0.0</td><td>1.13049</td><td>2.80578</td><td>0</td><td>Float64</td></tr><tr><th>17</th><td>4732440D04Rik</td><td>0.0583332</td><td>0.0</td><td>0.0</td><td>1.83957</td><td>0</td><td>Float64</td></tr><tr><th>18</th><td>Alkal1</td><td>0.0143309</td><td>0.0</td><td>0.0</td><td>1.89286</td><td>0</td><td>Float64</td></tr><tr><th>19</th><td>St18</td><td>0.100732</td><td>0.0</td><td>0.0</td><td>3.29594</td><td>0</td><td>Float64</td></tr><tr><th>20</th><td>Pcmtd1</td><td>0.900932</td><td>0.0</td><td>0.977625</td><td>2.83064</td><td>0</td><td>Float64</td></tr><tr><th>21</th><td>Gm26901</td><td>0.209503</td><td>0.0</td><td>0.0</td><td>2.3545</td><td>0</td><td>Float64</td></tr><tr><th>22</th><td>Gm30414</td><td>0.000770425</td><td>0.0</td><td>0.0</td><td>1.51788</td><td>0</td><td>Float64</td></tr><tr><th>23</th><td>Sntg1</td><td>2.29345</td><td>0.0</td><td>2.38264</td><td>4.67668</td><td>0</td><td>Float64</td></tr><tr><th>24</th><td>Rrs1</td><td>0.0117689</td><td>0.0</td><td>0.0</td><td>1.60085</td><td>0</td><td>Float64</td></tr><tr><th>&vellip;</th><td>&vellip;</td><td>&vellip;</td><td>&vellip;</td><td>&vellip;</td><td>&vellip;</td><td>&vellip;</td><td>&vellip;</td></tr></tbody></table></div>"
      ],
      "text/latex": [
       "\\begin{tabular}{r|ccccccc}\n",
       "\t& variable & mean & min & median & max & nmissing & eltype\\\\\n",
       "\t\\hline\n",
       "\t& Symbol & Float64 & Float64 & Float64 & Float64 & Int64 & DataType\\\\\n",
       "\t\\hline\n",
       "\t1 & Xkr4 & 2.41064 & 0.0 & 2.51936 & 4.26052 & 0 & Float64 \\\\\n",
       "\t2 & Gm1992 & 0.0232695 & 0.0 & 0.0 & 1.8822 & 0 & Float64 \\\\\n",
       "\t3 & Gm19938 & 0.214613 & 0.0 & 0.0 & 1.8791 & 0 & Float64 \\\\\n",
       "\t4 & Gm37381 & 0.000976904 & 0.0 & 0.0 & 1.20868 & 0 & Float64 \\\\\n",
       "\t5 & Rp1 & 0.00707406 & 0.0 & 0.0 & 1.34236 & 0 & Float64 \\\\\n",
       "\t6 & Sox17 & 0.000259006 & 0.0 & 0.0 & 1.29503 & 0 & Float64 \\\\\n",
       "\t7 & Gm37323 & 0.000239274 & 0.0 & 0.0 & 0.721071 & 0 & Float64 \\\\\n",
       "\t8 & Mrpl15 & 0.133054 & 0.0 & 0.0 & 2.3545 & 0 & Float64 \\\\\n",
       "\t9 & Lypla1 & 0.158978 & 0.0 & 0.0 & 2.5327 & 0 & Float64 \\\\\n",
       "\t10 & Tcea1 & 0.334586 & 0.0 & 0.0 & 2.71235 & 0 & Float64 \\\\\n",
       "\t11 & Rgs20 & 0.597984 & 0.0 & 0.42571 & 4.13995 & 0 & Float64 \\\\\n",
       "\t12 & Gm16041 & 0.0009945 & 0.0 & 0.0 & 0.952959 & 0 & Float64 \\\\\n",
       "\t13 & Atp6v1h & 0.795727 & 0.0 & 0.868493 & 2.81927 & 0 & Float64 \\\\\n",
       "\t14 & Oprk1 & 0.0712954 & 0.0 & 0.0 & 2.40479 & 0 & Float64 \\\\\n",
       "\t15 & Npbwr1 & 0.000303745 & 0.0 & 0.0 & 0.729701 & 0 & Float64 \\\\\n",
       "\t16 & Rb1cc1 & 1.03796 & 0.0 & 1.13049 & 2.80578 & 0 & Float64 \\\\\n",
       "\t17 & 4732440D04Rik & 0.0583332 & 0.0 & 0.0 & 1.83957 & 0 & Float64 \\\\\n",
       "\t18 & Alkal1 & 0.0143309 & 0.0 & 0.0 & 1.89286 & 0 & Float64 \\\\\n",
       "\t19 & St18 & 0.100732 & 0.0 & 0.0 & 3.29594 & 0 & Float64 \\\\\n",
       "\t20 & Pcmtd1 & 0.900932 & 0.0 & 0.977625 & 2.83064 & 0 & Float64 \\\\\n",
       "\t21 & Gm26901 & 0.209503 & 0.0 & 0.0 & 2.3545 & 0 & Float64 \\\\\n",
       "\t22 & Gm30414 & 0.000770425 & 0.0 & 0.0 & 1.51788 & 0 & Float64 \\\\\n",
       "\t23 & Sntg1 & 2.29345 & 0.0 & 2.38264 & 4.67668 & 0 & Float64 \\\\\n",
       "\t24 & Rrs1 & 0.0117689 & 0.0 & 0.0 & 1.60085 & 0 & Float64 \\\\\n",
       "\t$\\dots$ & $\\dots$ & $\\dots$ & $\\dots$ & $\\dots$ & $\\dots$ & $\\dots$ & $\\dots$ \\\\\n",
       "\\end{tabular}\n"
      ],
      "text/plain": [
       "\u001b[1m26099×7 DataFrame\u001b[0m\n",
       "\u001b[1m   Row \u001b[0m│\u001b[1m variable       \u001b[0m\u001b[1m mean        \u001b[0m\u001b[1m min     \u001b[0m\u001b[1m median  \u001b[0m\u001b[1m max      \u001b[0m\u001b[1m nmissing \u001b[0m\u001b[1m el\u001b[0m ⋯\n",
       "\u001b[1m       \u001b[0m│\u001b[90m Symbol         \u001b[0m\u001b[90m Float64     \u001b[0m\u001b[90m Float64 \u001b[0m\u001b[90m Float64 \u001b[0m\u001b[90m Float64  \u001b[0m\u001b[90m Int64    \u001b[0m\u001b[90m Da\u001b[0m ⋯\n",
       "───────┼────────────────────────────────────────────────────────────────────────\n",
       "     1 │ Xkr4            2.41064          0.0  2.51936  4.26052          0  Fl ⋯\n",
       "     2 │ Gm1992          0.0232695        0.0  0.0      1.8822           0  Fl\n",
       "     3 │ Gm19938         0.214613         0.0  0.0      1.8791           0  Fl\n",
       "     4 │ Gm37381         0.000976904      0.0  0.0      1.20868          0  Fl\n",
       "     5 │ Rp1             0.00707406       0.0  0.0      1.34236          0  Fl ⋯\n",
       "     6 │ Sox17           0.000259006      0.0  0.0      1.29503          0  Fl\n",
       "     7 │ Gm37323         0.000239274      0.0  0.0      0.721071         0  Fl\n",
       "     8 │ Mrpl15          0.133054         0.0  0.0      2.3545           0  Fl\n",
       "   ⋮   │       ⋮              ⋮          ⋮        ⋮        ⋮         ⋮         ⋱\n",
       " 26093 │ Spry3           0.012543         0.0  0.0      1.31561          0  Fl ⋯\n",
       " 26094 │ Tmlhe           0.291208         0.0  0.0      2.67508          0  Fl\n",
       " 26095 │ Vmn2r122        8.87452e-5       0.0  0.0      0.443726         0  Fl\n",
       " 26096 │ 4933409K07Rik   0.0180418        0.0  0.0      1.59582          0  Fl\n",
       " 26097 │ Gm10931         0.00306767       0.0  0.0      1.05147          0  Fl ⋯\n",
       " 26098 │ CAAA01147332.1  0.000355018      0.0  0.0      0.580659         0  Fl\n",
       " 26099 │ AC149090.1      1.4093           0.0  1.5325   3.51328          0  Fl\n",
       "\u001b[36m                                                 1 column and 26084 rows omitted\u001b[0m"
      ]
     },
     "metadata": {},
     "output_type": "display_data"
    }
   ],
   "source": [
    "describe(train_data_treated)"
   ]
  },
  {
   "attachments": {},
   "cell_type": "markdown",
   "metadata": {},
   "source": [
    "All the parametors with a 0 mean are gone.\n",
    "However we can still notice that there might be outliers in our data sets. For example for Gm37323(row 7) the mean is 0.000239274 but the maximal value is 0.721071. \n",
    " "
   ]
  },
  {
   "cell_type": "code",
   "execution_count": 10,
   "metadata": {},
   "outputs": [
    {
     "data": {
      "text/plain": [
       "0.012212418396005238"
      ]
     },
     "metadata": {},
     "output_type": "display_data"
    }
   ],
   "source": [
    "using Statistics\n",
    "t = train_data_treated.Gm37323 #takes all data points in the column \"Gm37323\"\n",
    "u = quantile(t, 0.99) #returns 0.99 quantile \n",
    "a = t[t.> u] # returns expression of the cells wich value is above the 0.99 quantile for Gm37323 expression"
   ]
  },
  {
   "attachments": {},
   "cell_type": "markdown",
   "metadata": {},
   "source": [
    "Thus 2 data points are above the 0.99 quantile"
   ]
  },
  {
   "cell_type": "code",
   "execution_count": 13,
   "metadata": {},
   "outputs": [
    {
     "data": {
      "text/plain": [
       "0.000239274035926351"
      ]
     },
     "metadata": {},
     "output_type": "display_data"
    }
   ],
   "source": [
    "average = (a[1]+a[2])/5000 "
   ]
  },
  {
   "attachments": {},
   "cell_type": "markdown",
   "metadata": {},
   "source": [
    "The mean observed in column Gm37323 (see describe aboce) is only due to this 2 observations : only 2 cells express this gene!!!\n",
    "Data needs further treatment!"
   ]
  },
  {
   "attachments": {},
   "cell_type": "markdown",
   "metadata": {},
   "source": [
    "## 2- Principal Component Analysis"
   ]
  },
  {
   "attachments": {},
   "cell_type": "markdown",
   "metadata": {},
   "source": [
    "To further treat our data, we decided to PCA"
   ]
  },
  {
   "attachments": {},
   "cell_type": "markdown",
   "metadata": {},
   "source": [
    "![img](PLOTS/PCA_2D.png)"
   ]
  },
  {
   "attachments": {},
   "cell_type": "markdown",
   "metadata": {},
   "source": [
    "![Image](PLOTS/PCA_2D_sd.png)"
   ]
  },
  {
   "attachments": {},
   "cell_type": "markdown",
   "metadata": {},
   "source": [
    "![Image](PLOTS/TNse.png)"
   ]
  },
  {
   "attachments": {},
   "cell_type": "markdown",
   "metadata": {},
   "source": [
    "![Image](PLOTS/Pvar_explained.png)"
   ]
  },
  {
   "attachments": {},
   "cell_type": "markdown",
   "metadata": {},
   "source": [
    "![Image](PLOTS/Biplot_PCA_standardized_1.png)"
   ]
  },
  {
   "attachments": {},
   "cell_type": "markdown",
   "metadata": {},
   "source": [
    "# Looking at Clusters"
   ]
  },
  {
   "cell_type": "markdown",
   "metadata": {},
   "source": []
  }
 ],
 "metadata": {
  "kernelspec": {
   "display_name": "Julia 1.7.3",
   "language": "julia",
   "name": "julia-1.7"
  },
  "language_info": {
   "file_extension": ".jl",
   "mimetype": "application/julia",
   "name": "julia",
   "version": "1.7.3"
  },
  "orig_nbformat": 4,
  "vscode": {
   "interpreter": {
    "hash": "31f2aee4e71d21fbe5cf8b01ff0e069b9275f58929596ceb00d14d90e3e16cd6"
   }
  }
 },
 "nbformat": 4,
 "nbformat_minor": 2
}
