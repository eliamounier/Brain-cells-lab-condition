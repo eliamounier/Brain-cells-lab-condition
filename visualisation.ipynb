{
 "cells": [
  {
   "cell_type": "code",
   "execution_count": 11,
   "metadata": {},
   "outputs": [
    {
     "name": "stderr",
     "output_type": "stream",
     "text": [
      "\u001b[32m\u001b[1m  Activating\u001b[22m\u001b[39m project at `~/.julia/dev/MLCourse`\n"
     ]
    }
   ],
   "source": [
    "using Pkg; Pkg.activate(joinpath(Pkg.devdir(), \"MLCourse\"))\n",
    "using CSV, DataFrames, Plots, OpenML"
   ]
  },
  {
   "attachments": {},
   "cell_type": "markdown",
   "metadata": {},
   "source": [
    "# Raw Data Visualisation"
   ]
  },
  {
   "attachments": {},
   "cell_type": "markdown",
   "metadata": {},
   "source": [
    "Let's start looking at the first 50 rows of the raw training data:"
   ]
  },
  {
   "cell_type": "code",
   "execution_count": 12,
   "metadata": {},
   "outputs": [
    {
     "data": {
      "text/html": [
       "<div class=\"data-frame\"><p>50 rows × 32,286 columns (omitted printing of 32277 columns)</p><table class=\"data-frame\"><thead><tr><th></th><th>Xkr4</th><th>Gm1992</th><th>Gm19938</th><th>Gm37381</th><th>Rp1</th><th>Sox17</th><th>Gm37587</th><th>Gm37323</th><th>Mrpl15</th></tr><tr><th></th><th title=\"Float64\">Float64</th><th title=\"Float64\">Float64</th><th title=\"Float64\">Float64</th><th title=\"Float64\">Float64</th><th title=\"Float64\">Float64</th><th title=\"Float64\">Float64</th><th title=\"Float64\">Float64</th><th title=\"Float64\">Float64</th><th title=\"Float64\">Float64</th></tr></thead><tbody><tr><th>1</th><td>2.19038</td><td>0.0</td><td>0.0</td><td>0.0</td><td>0.0</td><td>0.0</td><td>0.0</td><td>0.0</td><td>0.0</td></tr><tr><th>2</th><td>2.86198</td><td>0.0</td><td>0.506726</td><td>0.0</td><td>0.0</td><td>0.0</td><td>0.0</td><td>0.0</td><td>0.0</td></tr><tr><th>3</th><td>2.76676</td><td>0.0</td><td>0.629614</td><td>0.0</td><td>0.0</td><td>0.0</td><td>0.0</td><td>0.0</td><td>0.0</td></tr><tr><th>4</th><td>2.14643</td><td>0.0</td><td>0.0</td><td>0.0</td><td>0.0</td><td>0.0</td><td>0.0</td><td>0.0</td><td>0.0</td></tr><tr><th>5</th><td>2.84005</td><td>0.0</td><td>0.0</td><td>0.0</td><td>0.0</td><td>0.0</td><td>0.0</td><td>0.0</td><td>0.0</td></tr><tr><th>6</th><td>0.0</td><td>0.0</td><td>0.0</td><td>0.0</td><td>0.0</td><td>0.0</td><td>0.0</td><td>0.0</td><td>0.0</td></tr><tr><th>7</th><td>1.79552</td><td>0.0</td><td>0.0</td><td>0.0</td><td>0.0</td><td>0.0</td><td>0.0</td><td>0.0</td><td>0.0</td></tr><tr><th>8</th><td>1.96702</td><td>0.0</td><td>0.0</td><td>0.0</td><td>0.0</td><td>0.0</td><td>0.0</td><td>0.0</td><td>0.0</td></tr><tr><th>9</th><td>3.02083</td><td>0.0</td><td>0.374098</td><td>0.0</td><td>0.0</td><td>0.0</td><td>0.0</td><td>0.0</td><td>0.0</td></tr><tr><th>10</th><td>1.97939</td><td>0.0</td><td>0.0</td><td>0.0</td><td>0.0</td><td>0.0</td><td>0.0</td><td>0.0</td><td>0.0</td></tr><tr><th>11</th><td>1.70163</td><td>0.0</td><td>0.494946</td><td>0.0</td><td>0.0</td><td>0.0</td><td>0.0</td><td>0.0</td><td>0.0</td></tr><tr><th>12</th><td>1.29696</td><td>0.0</td><td>0.0</td><td>0.0</td><td>0.0</td><td>0.0</td><td>0.0</td><td>0.0</td><td>0.0</td></tr><tr><th>13</th><td>2.80296</td><td>0.0</td><td>0.0</td><td>0.0</td><td>0.0</td><td>0.0</td><td>0.0</td><td>0.0</td><td>0.0</td></tr><tr><th>14</th><td>2.84399</td><td>0.0</td><td>0.853853</td><td>0.0</td><td>0.0</td><td>0.0</td><td>0.0</td><td>0.0</td><td>0.0</td></tr><tr><th>15</th><td>2.34245</td><td>0.0</td><td>1.25518</td><td>0.0</td><td>0.0</td><td>0.0</td><td>0.0</td><td>0.0</td><td>0.0</td></tr><tr><th>16</th><td>1.74014</td><td>0.0</td><td>0.0</td><td>1.20868</td><td>0.0</td><td>0.0</td><td>0.0</td><td>0.0</td><td>0.0</td></tr><tr><th>17</th><td>2.29357</td><td>0.0</td><td>0.0</td><td>0.0</td><td>0.0</td><td>0.0</td><td>0.0</td><td>0.0</td><td>0.0</td></tr><tr><th>18</th><td>1.75521</td><td>0.0</td><td>0.0</td><td>0.0</td><td>0.0</td><td>0.0</td><td>0.0</td><td>0.0</td><td>1.22152</td></tr><tr><th>19</th><td>3.47721</td><td>0.0</td><td>0.0</td><td>0.0</td><td>0.0</td><td>0.0</td><td>0.0</td><td>0.0</td><td>0.0</td></tr><tr><th>20</th><td>1.53123</td><td>0.0</td><td>0.0</td><td>0.0</td><td>0.0</td><td>0.0</td><td>0.0</td><td>0.0</td><td>0.0</td></tr><tr><th>21</th><td>2.21617</td><td>0.0</td><td>0.0</td><td>0.0</td><td>0.0</td><td>0.0</td><td>0.0</td><td>0.0</td><td>0.0</td></tr><tr><th>22</th><td>1.71503</td><td>0.0</td><td>0.0</td><td>0.0</td><td>0.0</td><td>0.0</td><td>0.0</td><td>0.0</td><td>0.565015</td></tr><tr><th>23</th><td>2.15061</td><td>0.0</td><td>0.0</td><td>0.0</td><td>0.0</td><td>0.0</td><td>0.0</td><td>0.0</td><td>0.0</td></tr><tr><th>24</th><td>2.77058</td><td>0.311206</td><td>0.0</td><td>0.0</td><td>0.0</td><td>0.0</td><td>0.0</td><td>0.0</td><td>0.0</td></tr><tr><th>&vellip;</th><td>&vellip;</td><td>&vellip;</td><td>&vellip;</td><td>&vellip;</td><td>&vellip;</td><td>&vellip;</td><td>&vellip;</td><td>&vellip;</td><td>&vellip;</td></tr></tbody></table></div>"
      ],
      "text/latex": [
       "\\begin{tabular}{r|cccccccccc}\n",
       "\t& Xkr4 & Gm1992 & Gm19938 & Gm37381 & Rp1 & Sox17 & Gm37587 & Gm37323 & Mrpl15 & \\\\\n",
       "\t\\hline\n",
       "\t& Float64 & Float64 & Float64 & Float64 & Float64 & Float64 & Float64 & Float64 & Float64 & \\\\\n",
       "\t\\hline\n",
       "\t1 & 2.19038 & 0.0 & 0.0 & 0.0 & 0.0 & 0.0 & 0.0 & 0.0 & 0.0 & $\\dots$ \\\\\n",
       "\t2 & 2.86198 & 0.0 & 0.506726 & 0.0 & 0.0 & 0.0 & 0.0 & 0.0 & 0.0 & $\\dots$ \\\\\n",
       "\t3 & 2.76676 & 0.0 & 0.629614 & 0.0 & 0.0 & 0.0 & 0.0 & 0.0 & 0.0 & $\\dots$ \\\\\n",
       "\t4 & 2.14643 & 0.0 & 0.0 & 0.0 & 0.0 & 0.0 & 0.0 & 0.0 & 0.0 & $\\dots$ \\\\\n",
       "\t5 & 2.84005 & 0.0 & 0.0 & 0.0 & 0.0 & 0.0 & 0.0 & 0.0 & 0.0 & $\\dots$ \\\\\n",
       "\t6 & 0.0 & 0.0 & 0.0 & 0.0 & 0.0 & 0.0 & 0.0 & 0.0 & 0.0 & $\\dots$ \\\\\n",
       "\t7 & 1.79552 & 0.0 & 0.0 & 0.0 & 0.0 & 0.0 & 0.0 & 0.0 & 0.0 & $\\dots$ \\\\\n",
       "\t8 & 1.96702 & 0.0 & 0.0 & 0.0 & 0.0 & 0.0 & 0.0 & 0.0 & 0.0 & $\\dots$ \\\\\n",
       "\t9 & 3.02083 & 0.0 & 0.374098 & 0.0 & 0.0 & 0.0 & 0.0 & 0.0 & 0.0 & $\\dots$ \\\\\n",
       "\t10 & 1.97939 & 0.0 & 0.0 & 0.0 & 0.0 & 0.0 & 0.0 & 0.0 & 0.0 & $\\dots$ \\\\\n",
       "\t11 & 1.70163 & 0.0 & 0.494946 & 0.0 & 0.0 & 0.0 & 0.0 & 0.0 & 0.0 & $\\dots$ \\\\\n",
       "\t12 & 1.29696 & 0.0 & 0.0 & 0.0 & 0.0 & 0.0 & 0.0 & 0.0 & 0.0 & $\\dots$ \\\\\n",
       "\t13 & 2.80296 & 0.0 & 0.0 & 0.0 & 0.0 & 0.0 & 0.0 & 0.0 & 0.0 & $\\dots$ \\\\\n",
       "\t14 & 2.84399 & 0.0 & 0.853853 & 0.0 & 0.0 & 0.0 & 0.0 & 0.0 & 0.0 & $\\dots$ \\\\\n",
       "\t15 & 2.34245 & 0.0 & 1.25518 & 0.0 & 0.0 & 0.0 & 0.0 & 0.0 & 0.0 & $\\dots$ \\\\\n",
       "\t16 & 1.74014 & 0.0 & 0.0 & 1.20868 & 0.0 & 0.0 & 0.0 & 0.0 & 0.0 & $\\dots$ \\\\\n",
       "\t17 & 2.29357 & 0.0 & 0.0 & 0.0 & 0.0 & 0.0 & 0.0 & 0.0 & 0.0 & $\\dots$ \\\\\n",
       "\t18 & 1.75521 & 0.0 & 0.0 & 0.0 & 0.0 & 0.0 & 0.0 & 0.0 & 1.22152 & $\\dots$ \\\\\n",
       "\t19 & 3.47721 & 0.0 & 0.0 & 0.0 & 0.0 & 0.0 & 0.0 & 0.0 & 0.0 & $\\dots$ \\\\\n",
       "\t20 & 1.53123 & 0.0 & 0.0 & 0.0 & 0.0 & 0.0 & 0.0 & 0.0 & 0.0 & $\\dots$ \\\\\n",
       "\t21 & 2.21617 & 0.0 & 0.0 & 0.0 & 0.0 & 0.0 & 0.0 & 0.0 & 0.0 & $\\dots$ \\\\\n",
       "\t22 & 1.71503 & 0.0 & 0.0 & 0.0 & 0.0 & 0.0 & 0.0 & 0.0 & 0.565015 & $\\dots$ \\\\\n",
       "\t23 & 2.15061 & 0.0 & 0.0 & 0.0 & 0.0 & 0.0 & 0.0 & 0.0 & 0.0 & $\\dots$ \\\\\n",
       "\t24 & 2.77058 & 0.311206 & 0.0 & 0.0 & 0.0 & 0.0 & 0.0 & 0.0 & 0.0 & $\\dots$ \\\\\n",
       "\t$\\dots$ & $\\dots$ & $\\dots$ & $\\dots$ & $\\dots$ & $\\dots$ & $\\dots$ & $\\dots$ & $\\dots$ & $\\dots$ &  \\\\\n",
       "\\end{tabular}\n"
      ],
      "text/plain": [
       "\u001b[1m50×32286 DataFrame\u001b[0m\n",
       "\u001b[1m Row \u001b[0m│\u001b[1m Xkr4    \u001b[0m\u001b[1m Gm1992   \u001b[0m\u001b[1m Gm19938  \u001b[0m\u001b[1m Gm37381 \u001b[0m\u001b[1m Rp1     \u001b[0m\u001b[1m Sox17   \u001b[0m\u001b[1m Gm37587 \u001b[0m\u001b[1m Gm3732\u001b[0m ⋯\n",
       "\u001b[1m     \u001b[0m│\u001b[90m Float64 \u001b[0m\u001b[90m Float64  \u001b[0m\u001b[90m Float64  \u001b[0m\u001b[90m Float64 \u001b[0m\u001b[90m Float64 \u001b[0m\u001b[90m Float64 \u001b[0m\u001b[90m Float64 \u001b[0m\u001b[90m Float6\u001b[0m ⋯\n",
       "─────┼──────────────────────────────────────────────────────────────────────────\n",
       "   1 │ 2.19038  0.0       0.0           0.0      0.0      0.0      0.0      0. ⋯\n",
       "   2 │ 2.86198  0.0       0.506726      0.0      0.0      0.0      0.0      0.\n",
       "   3 │ 2.76676  0.0       0.629614      0.0      0.0      0.0      0.0      0.\n",
       "   4 │ 2.14643  0.0       0.0           0.0      0.0      0.0      0.0      0.\n",
       "   5 │ 2.84005  0.0       0.0           0.0      0.0      0.0      0.0      0. ⋯\n",
       "   6 │ 0.0      0.0       0.0           0.0      0.0      0.0      0.0      0.\n",
       "   7 │ 1.79552  0.0       0.0           0.0      0.0      0.0      0.0      0.\n",
       "   8 │ 1.96702  0.0       0.0           0.0      0.0      0.0      0.0      0.\n",
       "  ⋮  │    ⋮        ⋮         ⋮         ⋮        ⋮        ⋮        ⋮        ⋮   ⋱\n",
       "  44 │ 3.03473  0.0       0.0           0.0      0.0      0.0      0.0      0. ⋯\n",
       "  45 │ 2.74834  0.432665  0.0           0.0      0.0      0.0      0.0      0.\n",
       "  46 │ 1.71298  0.0       0.0           0.0      0.0      0.0      0.0      0.\n",
       "  47 │ 2.73665  0.0       0.0           0.0      0.0      0.0      0.0      0.\n",
       "  48 │ 2.91416  0.0       0.0           0.0      0.0      0.0      0.0      0. ⋯\n",
       "  49 │ 2.11005  0.0       0.0           0.0      0.0      0.0      0.0      0.\n",
       "  50 │ 0.0      0.0       0.0           0.0      0.0      0.0      0.0      0.\n",
       "\u001b[36m                                               32279 columns and 35 rows omitted\u001b[0m"
      ]
     },
     "metadata": {},
     "output_type": "display_data"
    }
   ],
   "source": [
    "train_data = CSV.read(\"DATA/train.csv\", DataFrame, limit = 50)"
   ]
  },
  {
   "cell_type": "code",
   "execution_count": 13,
   "metadata": {},
   "outputs": [
    {
     "data": {
      "text/html": [
       "<div class=\"data-frame\"><p>32,286 rows × 7 columns</p><table class=\"data-frame\"><thead><tr><th></th><th>variable</th><th>mean</th><th>min</th><th>median</th><th>max</th><th>nmissing</th><th>eltype</th></tr><tr><th></th><th title=\"Symbol\">Symbol</th><th title=\"Union{Nothing, Float64}\">Union…</th><th title=\"Any\">Any</th><th title=\"Union{Nothing, Float64}\">Union…</th><th title=\"Any\">Any</th><th title=\"Int64\">Int64</th><th title=\"DataType\">DataType</th></tr></thead><tbody><tr><th>1</th><td>Xkr4</td><td>2.22804</td><td>0.0</td><td>2.19948</td><td>3.62105</td><td>0</td><td>Float64</td></tr><tr><th>2</th><td>Gm1992</td><td>0.0148774</td><td>0.0</td><td>0.0</td><td>0.432665</td><td>0</td><td>Float64</td></tr><tr><th>3</th><td>Gm19938</td><td>0.169924</td><td>0.0</td><td>0.0</td><td>1.53657</td><td>0</td><td>Float64</td></tr><tr><th>4</th><td>Gm37381</td><td>0.0241737</td><td>0.0</td><td>0.0</td><td>1.20868</td><td>0</td><td>Float64</td></tr><tr><th>5</th><td>Rp1</td><td>0.0</td><td>0.0</td><td>0.0</td><td>0.0</td><td>0</td><td>Float64</td></tr><tr><th>6</th><td>Sox17</td><td>0.0</td><td>0.0</td><td>0.0</td><td>0.0</td><td>0</td><td>Float64</td></tr><tr><th>7</th><td>Gm37587</td><td>0.0</td><td>0.0</td><td>0.0</td><td>0.0</td><td>0</td><td>Float64</td></tr><tr><th>8</th><td>Gm37323</td><td>0.0</td><td>0.0</td><td>0.0</td><td>0.0</td><td>0</td><td>Float64</td></tr><tr><th>9</th><td>Mrpl15</td><td>0.143806</td><td>0.0</td><td>0.0</td><td>1.45844</td><td>0</td><td>Float64</td></tr><tr><th>10</th><td>Lypla1</td><td>0.152868</td><td>0.0</td><td>0.0</td><td>1.45222</td><td>0</td><td>Float64</td></tr><tr><th>11</th><td>Tcea1</td><td>0.470846</td><td>0.0</td><td>0.374424</td><td>1.79552</td><td>0</td><td>Float64</td></tr><tr><th>12</th><td>Rgs20</td><td>0.499175</td><td>0.0</td><td>0.0</td><td>3.87644</td><td>0</td><td>Float64</td></tr><tr><th>13</th><td>Gm16041</td><td>0.0</td><td>0.0</td><td>0.0</td><td>0.0</td><td>0</td><td>Float64</td></tr><tr><th>14</th><td>Atp6v1h</td><td>0.657204</td><td>0.0</td><td>0.635502</td><td>1.83934</td><td>0</td><td>Float64</td></tr><tr><th>15</th><td>Oprk1</td><td>0.037257</td><td>0.0</td><td>0.0</td><td>0.963785</td><td>0</td><td>Float64</td></tr><tr><th>16</th><td>Npbwr1</td><td>0.0</td><td>0.0</td><td>0.0</td><td>0.0</td><td>0</td><td>Float64</td></tr><tr><th>17</th><td>Rb1cc1</td><td>0.994144</td><td>0.0</td><td>1.0996</td><td>2.12575</td><td>0</td><td>Float64</td></tr><tr><th>18</th><td>4732440D04Rik</td><td>0.0861755</td><td>0.0</td><td>0.0</td><td>1.45844</td><td>0</td><td>Float64</td></tr><tr><th>19</th><td>Alkal1</td><td>0.0</td><td>0.0</td><td>0.0</td><td>0.0</td><td>0</td><td>Float64</td></tr><tr><th>20</th><td>St18</td><td>0.0182318</td><td>0.0</td><td>0.0</td><td>0.482095</td><td>0</td><td>Float64</td></tr><tr><th>21</th><td>Pcmtd1</td><td>0.902058</td><td>0.0</td><td>1.00036</td><td>2.38855</td><td>0</td><td>Float64</td></tr><tr><th>22</th><td>Gm26901</td><td>0.190208</td><td>0.0</td><td>0.0</td><td>1.56759</td><td>0</td><td>Float64</td></tr><tr><th>23</th><td>Gm30414</td><td>0.0</td><td>0.0</td><td>0.0</td><td>0.0</td><td>0</td><td>Float64</td></tr><tr><th>24</th><td>Sntg1</td><td>2.27115</td><td>0.0</td><td>2.28962</td><td>3.844</td><td>0</td><td>Float64</td></tr><tr><th>&vellip;</th><td>&vellip;</td><td>&vellip;</td><td>&vellip;</td><td>&vellip;</td><td>&vellip;</td><td>&vellip;</td><td>&vellip;</td></tr></tbody></table></div>"
      ],
      "text/latex": [
       "\\begin{tabular}{r|ccccccc}\n",
       "\t& variable & mean & min & median & max & nmissing & eltype\\\\\n",
       "\t\\hline\n",
       "\t& Symbol & Union… & Any & Union… & Any & Int64 & DataType\\\\\n",
       "\t\\hline\n",
       "\t1 & Xkr4 & 2.22804 & 0.0 & 2.19948 & 3.62105 & 0 & Float64 \\\\\n",
       "\t2 & Gm1992 & 0.0148774 & 0.0 & 0.0 & 0.432665 & 0 & Float64 \\\\\n",
       "\t3 & Gm19938 & 0.169924 & 0.0 & 0.0 & 1.53657 & 0 & Float64 \\\\\n",
       "\t4 & Gm37381 & 0.0241737 & 0.0 & 0.0 & 1.20868 & 0 & Float64 \\\\\n",
       "\t5 & Rp1 & 0.0 & 0.0 & 0.0 & 0.0 & 0 & Float64 \\\\\n",
       "\t6 & Sox17 & 0.0 & 0.0 & 0.0 & 0.0 & 0 & Float64 \\\\\n",
       "\t7 & Gm37587 & 0.0 & 0.0 & 0.0 & 0.0 & 0 & Float64 \\\\\n",
       "\t8 & Gm37323 & 0.0 & 0.0 & 0.0 & 0.0 & 0 & Float64 \\\\\n",
       "\t9 & Mrpl15 & 0.143806 & 0.0 & 0.0 & 1.45844 & 0 & Float64 \\\\\n",
       "\t10 & Lypla1 & 0.152868 & 0.0 & 0.0 & 1.45222 & 0 & Float64 \\\\\n",
       "\t11 & Tcea1 & 0.470846 & 0.0 & 0.374424 & 1.79552 & 0 & Float64 \\\\\n",
       "\t12 & Rgs20 & 0.499175 & 0.0 & 0.0 & 3.87644 & 0 & Float64 \\\\\n",
       "\t13 & Gm16041 & 0.0 & 0.0 & 0.0 & 0.0 & 0 & Float64 \\\\\n",
       "\t14 & Atp6v1h & 0.657204 & 0.0 & 0.635502 & 1.83934 & 0 & Float64 \\\\\n",
       "\t15 & Oprk1 & 0.037257 & 0.0 & 0.0 & 0.963785 & 0 & Float64 \\\\\n",
       "\t16 & Npbwr1 & 0.0 & 0.0 & 0.0 & 0.0 & 0 & Float64 \\\\\n",
       "\t17 & Rb1cc1 & 0.994144 & 0.0 & 1.0996 & 2.12575 & 0 & Float64 \\\\\n",
       "\t18 & 4732440D04Rik & 0.0861755 & 0.0 & 0.0 & 1.45844 & 0 & Float64 \\\\\n",
       "\t19 & Alkal1 & 0.0 & 0.0 & 0.0 & 0.0 & 0 & Float64 \\\\\n",
       "\t20 & St18 & 0.0182318 & 0.0 & 0.0 & 0.482095 & 0 & Float64 \\\\\n",
       "\t21 & Pcmtd1 & 0.902058 & 0.0 & 1.00036 & 2.38855 & 0 & Float64 \\\\\n",
       "\t22 & Gm26901 & 0.190208 & 0.0 & 0.0 & 1.56759 & 0 & Float64 \\\\\n",
       "\t23 & Gm30414 & 0.0 & 0.0 & 0.0 & 0.0 & 0 & Float64 \\\\\n",
       "\t24 & Sntg1 & 2.27115 & 0.0 & 2.28962 & 3.844 & 0 & Float64 \\\\\n",
       "\t$\\dots$ & $\\dots$ & $\\dots$ & $\\dots$ & $\\dots$ & $\\dots$ & $\\dots$ & $\\dots$ \\\\\n",
       "\\end{tabular}\n"
      ],
      "text/plain": [
       "\u001b[1m32286×7 DataFrame\u001b[0m\n",
       "\u001b[1m   Row \u001b[0m│\u001b[1m variable   \u001b[0m\u001b[1m mean      \u001b[0m\u001b[1m min \u001b[0m\u001b[1m median   \u001b[0m\u001b[1m max      \u001b[0m\u001b[1m nmissing \u001b[0m\u001b[1m eltype   \u001b[0m\n",
       "\u001b[1m       \u001b[0m│\u001b[90m Symbol     \u001b[0m\u001b[90m Union…    \u001b[0m\u001b[90m Any \u001b[0m\u001b[90m Union…   \u001b[0m\u001b[90m Any      \u001b[0m\u001b[90m Int64    \u001b[0m\u001b[90m DataType \u001b[0m\n",
       "───────┼────────────────────────────────────────────────────────────────────\n",
       "     1 │ Xkr4        2.22804    0.0  2.19948   3.62105          0  Float64\n",
       "     2 │ Gm1992      0.0148774  0.0  0.0       0.432665         0  Float64\n",
       "     3 │ Gm19938     0.169924   0.0  0.0       1.53657          0  Float64\n",
       "     4 │ Gm37381     0.0241737  0.0  0.0       1.20868          0  Float64\n",
       "     5 │ Rp1         0.0        0.0  0.0       0.0              0  Float64\n",
       "     6 │ Sox17       0.0        0.0  0.0       0.0              0  Float64\n",
       "     7 │ Gm37587     0.0        0.0  0.0       0.0              0  Float64\n",
       "     8 │ Gm37323     0.0        0.0  0.0       0.0              0  Float64\n",
       "   ⋮   │     ⋮           ⋮       ⋮      ⋮         ⋮         ⋮         ⋮\n",
       " 32280 │ AC124606.2  0.0        0.0  0.0       0.0              0  Float64\n",
       " 32281 │ AC124606.1  0.0        0.0  0.0       0.0              0  Float64\n",
       " 32282 │ AC133095.2  0.0        0.0  0.0       0.0              0  Float64\n",
       " 32283 │ AC133095.1  0.0        0.0  0.0       0.0              0  Float64\n",
       " 32284 │ AC234645.1  0.0        0.0  0.0       0.0              0  Float64\n",
       " 32285 │ AC149090.1  1.44772    0.0  1.60537   2.73357          0  Float64\n",
       " 32286 │ labels     \u001b[90m           \u001b[0m CBP \u001b[90m          \u001b[0m eGFP             0  String7\n",
       "\u001b[36m                                                          32271 rows omitted\u001b[0m"
      ]
     },
     "metadata": {},
     "output_type": "display_data"
    }
   ],
   "source": [
    "describe(train_data)"
   ]
  },
  {
   "attachments": {},
   "cell_type": "markdown",
   "metadata": {},
   "source": [
    "We can see that some genes have a mean expression of zero, plus a minimal value and a maximal value of 0. This type of parameters are useless to our model prediction. Therefore some data cleaning needs to be done. "
   ]
  },
  {
   "attachments": {},
   "cell_type": "markdown",
   "metadata": {},
   "source": [
    "# Data Treatment"
   ]
  },
  {
   "attachments": {},
   "cell_type": "markdown",
   "metadata": {},
   "source": [
    "## 1-Removal of correlated parameters"
   ]
  },
  {
   "attachments": {},
   "cell_type": "markdown",
   "metadata": {},
   "source": [
    "In Data_treatment.jl :\n",
    "- we tested if we had missing data: none found\n",
    "- we removed  \n"
   ]
  },
  {
   "cell_type": "code",
   "execution_count": 15,
   "metadata": {},
   "outputs": [
    {
     "data": {
      "text/html": [
       "<div class=\"data-frame\"><p>50 rows × 26,226 columns (omitted printing of 26217 columns)</p><table class=\"data-frame\"><thead><tr><th></th><th>Xkr4</th><th>Gm1992</th><th>Gm19938</th><th>Gm37381</th><th>Rp1</th><th>Sox17</th><th>Gm37323</th><th>Mrpl15</th><th>Lypla1</th></tr><tr><th></th><th title=\"Float64\">Float64</th><th title=\"Float64\">Float64</th><th title=\"Float64\">Float64</th><th title=\"Float64\">Float64</th><th title=\"Float64\">Float64</th><th title=\"Float64\">Float64</th><th title=\"Float64\">Float64</th><th title=\"Float64\">Float64</th><th title=\"Float64\">Float64</th></tr></thead><tbody><tr><th>1</th><td>2.19038</td><td>0.0</td><td>0.0</td><td>0.0</td><td>0.0</td><td>0.0</td><td>0.0</td><td>0.0</td><td>0.0</td></tr><tr><th>2</th><td>2.86198</td><td>0.0</td><td>0.506726</td><td>0.0</td><td>0.0</td><td>0.0</td><td>0.0</td><td>0.0</td><td>0.0</td></tr><tr><th>3</th><td>2.76676</td><td>0.0</td><td>0.629614</td><td>0.0</td><td>0.0</td><td>0.0</td><td>0.0</td><td>0.0</td><td>0.0</td></tr><tr><th>4</th><td>2.14643</td><td>0.0</td><td>0.0</td><td>0.0</td><td>0.0</td><td>0.0</td><td>0.0</td><td>0.0</td><td>0.0</td></tr><tr><th>5</th><td>2.84005</td><td>0.0</td><td>0.0</td><td>0.0</td><td>0.0</td><td>0.0</td><td>0.0</td><td>0.0</td><td>0.0</td></tr><tr><th>6</th><td>0.0</td><td>0.0</td><td>0.0</td><td>0.0</td><td>0.0</td><td>0.0</td><td>0.0</td><td>0.0</td><td>0.0</td></tr><tr><th>7</th><td>1.79552</td><td>0.0</td><td>0.0</td><td>0.0</td><td>0.0</td><td>0.0</td><td>0.0</td><td>0.0</td><td>0.0</td></tr><tr><th>8</th><td>1.96702</td><td>0.0</td><td>0.0</td><td>0.0</td><td>0.0</td><td>0.0</td><td>0.0</td><td>0.0</td><td>0.0</td></tr><tr><th>9</th><td>3.02083</td><td>0.0</td><td>0.374098</td><td>0.0</td><td>0.0</td><td>0.0</td><td>0.0</td><td>0.0</td><td>0.0</td></tr><tr><th>10</th><td>1.97939</td><td>0.0</td><td>0.0</td><td>0.0</td><td>0.0</td><td>0.0</td><td>0.0</td><td>0.0</td><td>0.0</td></tr><tr><th>11</th><td>1.70163</td><td>0.0</td><td>0.494946</td><td>0.0</td><td>0.0</td><td>0.0</td><td>0.0</td><td>0.0</td><td>0.0</td></tr><tr><th>12</th><td>1.29696</td><td>0.0</td><td>0.0</td><td>0.0</td><td>0.0</td><td>0.0</td><td>0.0</td><td>0.0</td><td>0.845473</td></tr><tr><th>13</th><td>2.80296</td><td>0.0</td><td>0.0</td><td>0.0</td><td>0.0</td><td>0.0</td><td>0.0</td><td>0.0</td><td>0.514993</td></tr><tr><th>14</th><td>2.84399</td><td>0.0</td><td>0.853853</td><td>0.0</td><td>0.0</td><td>0.0</td><td>0.0</td><td>0.0</td><td>0.0</td></tr><tr><th>15</th><td>2.34245</td><td>0.0</td><td>1.25518</td><td>0.0</td><td>0.0</td><td>0.0</td><td>0.0</td><td>0.0</td><td>0.0</td></tr><tr><th>16</th><td>1.74014</td><td>0.0</td><td>0.0</td><td>1.20868</td><td>0.0</td><td>0.0</td><td>0.0</td><td>0.0</td><td>0.0</td></tr><tr><th>17</th><td>2.29357</td><td>0.0</td><td>0.0</td><td>0.0</td><td>0.0</td><td>0.0</td><td>0.0</td><td>0.0</td><td>0.0</td></tr><tr><th>18</th><td>1.75521</td><td>0.0</td><td>0.0</td><td>0.0</td><td>0.0</td><td>0.0</td><td>0.0</td><td>1.22152</td><td>0.0</td></tr><tr><th>19</th><td>3.47721</td><td>0.0</td><td>0.0</td><td>0.0</td><td>0.0</td><td>0.0</td><td>0.0</td><td>0.0</td><td>0.0</td></tr><tr><th>20</th><td>1.53123</td><td>0.0</td><td>0.0</td><td>0.0</td><td>0.0</td><td>0.0</td><td>0.0</td><td>0.0</td><td>0.0</td></tr><tr><th>21</th><td>2.21617</td><td>0.0</td><td>0.0</td><td>0.0</td><td>0.0</td><td>0.0</td><td>0.0</td><td>0.0</td><td>0.0</td></tr><tr><th>22</th><td>1.71503</td><td>0.0</td><td>0.0</td><td>0.0</td><td>0.0</td><td>0.0</td><td>0.0</td><td>0.565015</td><td>0.0</td></tr><tr><th>23</th><td>2.15061</td><td>0.0</td><td>0.0</td><td>0.0</td><td>0.0</td><td>0.0</td><td>0.0</td><td>0.0</td><td>0.0</td></tr><tr><th>24</th><td>2.77058</td><td>0.311206</td><td>0.0</td><td>0.0</td><td>0.0</td><td>0.0</td><td>0.0</td><td>0.0</td><td>0.311206</td></tr><tr><th>&vellip;</th><td>&vellip;</td><td>&vellip;</td><td>&vellip;</td><td>&vellip;</td><td>&vellip;</td><td>&vellip;</td><td>&vellip;</td><td>&vellip;</td><td>&vellip;</td></tr></tbody></table></div>"
      ],
      "text/latex": [
       "\\begin{tabular}{r|cccccccccc}\n",
       "\t& Xkr4 & Gm1992 & Gm19938 & Gm37381 & Rp1 & Sox17 & Gm37323 & Mrpl15 & Lypla1 & \\\\\n",
       "\t\\hline\n",
       "\t& Float64 & Float64 & Float64 & Float64 & Float64 & Float64 & Float64 & Float64 & Float64 & \\\\\n",
       "\t\\hline\n",
       "\t1 & 2.19038 & 0.0 & 0.0 & 0.0 & 0.0 & 0.0 & 0.0 & 0.0 & 0.0 & $\\dots$ \\\\\n",
       "\t2 & 2.86198 & 0.0 & 0.506726 & 0.0 & 0.0 & 0.0 & 0.0 & 0.0 & 0.0 & $\\dots$ \\\\\n",
       "\t3 & 2.76676 & 0.0 & 0.629614 & 0.0 & 0.0 & 0.0 & 0.0 & 0.0 & 0.0 & $\\dots$ \\\\\n",
       "\t4 & 2.14643 & 0.0 & 0.0 & 0.0 & 0.0 & 0.0 & 0.0 & 0.0 & 0.0 & $\\dots$ \\\\\n",
       "\t5 & 2.84005 & 0.0 & 0.0 & 0.0 & 0.0 & 0.0 & 0.0 & 0.0 & 0.0 & $\\dots$ \\\\\n",
       "\t6 & 0.0 & 0.0 & 0.0 & 0.0 & 0.0 & 0.0 & 0.0 & 0.0 & 0.0 & $\\dots$ \\\\\n",
       "\t7 & 1.79552 & 0.0 & 0.0 & 0.0 & 0.0 & 0.0 & 0.0 & 0.0 & 0.0 & $\\dots$ \\\\\n",
       "\t8 & 1.96702 & 0.0 & 0.0 & 0.0 & 0.0 & 0.0 & 0.0 & 0.0 & 0.0 & $\\dots$ \\\\\n",
       "\t9 & 3.02083 & 0.0 & 0.374098 & 0.0 & 0.0 & 0.0 & 0.0 & 0.0 & 0.0 & $\\dots$ \\\\\n",
       "\t10 & 1.97939 & 0.0 & 0.0 & 0.0 & 0.0 & 0.0 & 0.0 & 0.0 & 0.0 & $\\dots$ \\\\\n",
       "\t11 & 1.70163 & 0.0 & 0.494946 & 0.0 & 0.0 & 0.0 & 0.0 & 0.0 & 0.0 & $\\dots$ \\\\\n",
       "\t12 & 1.29696 & 0.0 & 0.0 & 0.0 & 0.0 & 0.0 & 0.0 & 0.0 & 0.845473 & $\\dots$ \\\\\n",
       "\t13 & 2.80296 & 0.0 & 0.0 & 0.0 & 0.0 & 0.0 & 0.0 & 0.0 & 0.514993 & $\\dots$ \\\\\n",
       "\t14 & 2.84399 & 0.0 & 0.853853 & 0.0 & 0.0 & 0.0 & 0.0 & 0.0 & 0.0 & $\\dots$ \\\\\n",
       "\t15 & 2.34245 & 0.0 & 1.25518 & 0.0 & 0.0 & 0.0 & 0.0 & 0.0 & 0.0 & $\\dots$ \\\\\n",
       "\t16 & 1.74014 & 0.0 & 0.0 & 1.20868 & 0.0 & 0.0 & 0.0 & 0.0 & 0.0 & $\\dots$ \\\\\n",
       "\t17 & 2.29357 & 0.0 & 0.0 & 0.0 & 0.0 & 0.0 & 0.0 & 0.0 & 0.0 & $\\dots$ \\\\\n",
       "\t18 & 1.75521 & 0.0 & 0.0 & 0.0 & 0.0 & 0.0 & 0.0 & 1.22152 & 0.0 & $\\dots$ \\\\\n",
       "\t19 & 3.47721 & 0.0 & 0.0 & 0.0 & 0.0 & 0.0 & 0.0 & 0.0 & 0.0 & $\\dots$ \\\\\n",
       "\t20 & 1.53123 & 0.0 & 0.0 & 0.0 & 0.0 & 0.0 & 0.0 & 0.0 & 0.0 & $\\dots$ \\\\\n",
       "\t21 & 2.21617 & 0.0 & 0.0 & 0.0 & 0.0 & 0.0 & 0.0 & 0.0 & 0.0 & $\\dots$ \\\\\n",
       "\t22 & 1.71503 & 0.0 & 0.0 & 0.0 & 0.0 & 0.0 & 0.0 & 0.565015 & 0.0 & $\\dots$ \\\\\n",
       "\t23 & 2.15061 & 0.0 & 0.0 & 0.0 & 0.0 & 0.0 & 0.0 & 0.0 & 0.0 & $\\dots$ \\\\\n",
       "\t24 & 2.77058 & 0.311206 & 0.0 & 0.0 & 0.0 & 0.0 & 0.0 & 0.0 & 0.311206 & $\\dots$ \\\\\n",
       "\t$\\dots$ & $\\dots$ & $\\dots$ & $\\dots$ & $\\dots$ & $\\dots$ & $\\dots$ & $\\dots$ & $\\dots$ & $\\dots$ &  \\\\\n",
       "\\end{tabular}\n"
      ],
      "text/plain": [
       "\u001b[1m50×26226 DataFrame\u001b[0m\n",
       "\u001b[1m Row \u001b[0m│\u001b[1m Xkr4    \u001b[0m\u001b[1m Gm1992   \u001b[0m\u001b[1m Gm19938  \u001b[0m\u001b[1m Gm37381 \u001b[0m\u001b[1m Rp1     \u001b[0m\u001b[1m Sox17   \u001b[0m\u001b[1m Gm37323 \u001b[0m\u001b[1m Mrpl15\u001b[0m ⋯\n",
       "\u001b[1m     \u001b[0m│\u001b[90m Float64 \u001b[0m\u001b[90m Float64  \u001b[0m\u001b[90m Float64  \u001b[0m\u001b[90m Float64 \u001b[0m\u001b[90m Float64 \u001b[0m\u001b[90m Float64 \u001b[0m\u001b[90m Float64 \u001b[0m\u001b[90m Float6\u001b[0m ⋯\n",
       "─────┼──────────────────────────────────────────────────────────────────────────\n",
       "   1 │ 2.19038  0.0       0.0           0.0      0.0      0.0      0.0  0.0    ⋯\n",
       "   2 │ 2.86198  0.0       0.506726      0.0      0.0      0.0      0.0  0.0\n",
       "   3 │ 2.76676  0.0       0.629614      0.0      0.0      0.0      0.0  0.0\n",
       "   4 │ 2.14643  0.0       0.0           0.0      0.0      0.0      0.0  0.0\n",
       "   5 │ 2.84005  0.0       0.0           0.0      0.0      0.0      0.0  0.0    ⋯\n",
       "   6 │ 0.0      0.0       0.0           0.0      0.0      0.0      0.0  0.0\n",
       "   7 │ 1.79552  0.0       0.0           0.0      0.0      0.0      0.0  0.0\n",
       "   8 │ 1.96702  0.0       0.0           0.0      0.0      0.0      0.0  0.0\n",
       "  ⋮  │    ⋮        ⋮         ⋮         ⋮        ⋮        ⋮        ⋮        ⋮   ⋱\n",
       "  44 │ 3.03473  0.0       0.0           0.0      0.0      0.0      0.0  1.4584 ⋯\n",
       "  45 │ 2.74834  0.432665  0.0           0.0      0.0      0.0      0.0  0.0\n",
       "  46 │ 1.71298  0.0       0.0           0.0      0.0      0.0      0.0  0.0\n",
       "  47 │ 2.73665  0.0       0.0           0.0      0.0      0.0      0.0  0.0\n",
       "  48 │ 2.91416  0.0       0.0           0.0      0.0      0.0      0.0  0.0    ⋯\n",
       "  49 │ 2.11005  0.0       0.0           0.0      0.0      0.0      0.0  1.1220\n",
       "  50 │ 0.0      0.0       0.0           0.0      0.0      0.0      0.0  0.0\n",
       "\u001b[36m                                               26219 columns and 35 rows omitted\u001b[0m"
      ]
     },
     "metadata": {},
     "output_type": "display_data"
    }
   ],
   "source": [
    "train_data_treated = CSV.read(\"DATA/dataX.csv\", DataFrame, limit = 50)"
   ]
  },
  {
   "cell_type": "code",
   "execution_count": 16,
   "metadata": {},
   "outputs": [
    {
     "data": {
      "text/html": [
       "<div class=\"data-frame\"><p>26,226 rows × 7 columns</p><table class=\"data-frame\"><thead><tr><th></th><th>variable</th><th>mean</th><th>min</th><th>median</th><th>max</th><th>nmissing</th><th>eltype</th></tr><tr><th></th><th title=\"Symbol\">Symbol</th><th title=\"Float64\">Float64</th><th title=\"Float64\">Float64</th><th title=\"Float64\">Float64</th><th title=\"Float64\">Float64</th><th title=\"Int64\">Int64</th><th title=\"DataType\">DataType</th></tr></thead><tbody><tr><th>1</th><td>Xkr4</td><td>2.22804</td><td>0.0</td><td>2.19948</td><td>3.62105</td><td>0</td><td>Float64</td></tr><tr><th>2</th><td>Gm1992</td><td>0.0148774</td><td>0.0</td><td>0.0</td><td>0.432665</td><td>0</td><td>Float64</td></tr><tr><th>3</th><td>Gm19938</td><td>0.169924</td><td>0.0</td><td>0.0</td><td>1.53657</td><td>0</td><td>Float64</td></tr><tr><th>4</th><td>Gm37381</td><td>0.0241737</td><td>0.0</td><td>0.0</td><td>1.20868</td><td>0</td><td>Float64</td></tr><tr><th>5</th><td>Rp1</td><td>0.0</td><td>0.0</td><td>0.0</td><td>0.0</td><td>0</td><td>Float64</td></tr><tr><th>6</th><td>Sox17</td><td>0.0</td><td>0.0</td><td>0.0</td><td>0.0</td><td>0</td><td>Float64</td></tr><tr><th>7</th><td>Gm37323</td><td>0.0</td><td>0.0</td><td>0.0</td><td>0.0</td><td>0</td><td>Float64</td></tr><tr><th>8</th><td>Mrpl15</td><td>0.143806</td><td>0.0</td><td>0.0</td><td>1.45844</td><td>0</td><td>Float64</td></tr><tr><th>9</th><td>Lypla1</td><td>0.152868</td><td>0.0</td><td>0.0</td><td>1.45222</td><td>0</td><td>Float64</td></tr><tr><th>10</th><td>Tcea1</td><td>0.470846</td><td>0.0</td><td>0.374424</td><td>1.79552</td><td>0</td><td>Float64</td></tr><tr><th>11</th><td>Rgs20</td><td>0.499175</td><td>0.0</td><td>0.0</td><td>3.87644</td><td>0</td><td>Float64</td></tr><tr><th>12</th><td>Gm16041</td><td>0.0</td><td>0.0</td><td>0.0</td><td>0.0</td><td>0</td><td>Float64</td></tr><tr><th>13</th><td>Atp6v1h</td><td>0.657204</td><td>0.0</td><td>0.635502</td><td>1.83934</td><td>0</td><td>Float64</td></tr><tr><th>14</th><td>Oprk1</td><td>0.037257</td><td>0.0</td><td>0.0</td><td>0.963785</td><td>0</td><td>Float64</td></tr><tr><th>15</th><td>Npbwr1</td><td>0.0</td><td>0.0</td><td>0.0</td><td>0.0</td><td>0</td><td>Float64</td></tr><tr><th>16</th><td>Rb1cc1</td><td>0.994144</td><td>0.0</td><td>1.0996</td><td>2.12575</td><td>0</td><td>Float64</td></tr><tr><th>17</th><td>4732440D04Rik</td><td>0.0861755</td><td>0.0</td><td>0.0</td><td>1.45844</td><td>0</td><td>Float64</td></tr><tr><th>18</th><td>Alkal1</td><td>0.0</td><td>0.0</td><td>0.0</td><td>0.0</td><td>0</td><td>Float64</td></tr><tr><th>19</th><td>St18</td><td>0.0182318</td><td>0.0</td><td>0.0</td><td>0.482095</td><td>0</td><td>Float64</td></tr><tr><th>20</th><td>Pcmtd1</td><td>0.902058</td><td>0.0</td><td>1.00036</td><td>2.38855</td><td>0</td><td>Float64</td></tr><tr><th>21</th><td>Gm26901</td><td>0.190208</td><td>0.0</td><td>0.0</td><td>1.56759</td><td>0</td><td>Float64</td></tr><tr><th>22</th><td>Gm30414</td><td>0.0</td><td>0.0</td><td>0.0</td><td>0.0</td><td>0</td><td>Float64</td></tr><tr><th>23</th><td>Sntg1</td><td>2.27115</td><td>0.0</td><td>2.28962</td><td>3.844</td><td>0</td><td>Float64</td></tr><tr><th>24</th><td>Rrs1</td><td>0.0</td><td>0.0</td><td>0.0</td><td>0.0</td><td>0</td><td>Float64</td></tr><tr><th>&vellip;</th><td>&vellip;</td><td>&vellip;</td><td>&vellip;</td><td>&vellip;</td><td>&vellip;</td><td>&vellip;</td><td>&vellip;</td></tr></tbody></table></div>"
      ],
      "text/latex": [
       "\\begin{tabular}{r|ccccccc}\n",
       "\t& variable & mean & min & median & max & nmissing & eltype\\\\\n",
       "\t\\hline\n",
       "\t& Symbol & Float64 & Float64 & Float64 & Float64 & Int64 & DataType\\\\\n",
       "\t\\hline\n",
       "\t1 & Xkr4 & 2.22804 & 0.0 & 2.19948 & 3.62105 & 0 & Float64 \\\\\n",
       "\t2 & Gm1992 & 0.0148774 & 0.0 & 0.0 & 0.432665 & 0 & Float64 \\\\\n",
       "\t3 & Gm19938 & 0.169924 & 0.0 & 0.0 & 1.53657 & 0 & Float64 \\\\\n",
       "\t4 & Gm37381 & 0.0241737 & 0.0 & 0.0 & 1.20868 & 0 & Float64 \\\\\n",
       "\t5 & Rp1 & 0.0 & 0.0 & 0.0 & 0.0 & 0 & Float64 \\\\\n",
       "\t6 & Sox17 & 0.0 & 0.0 & 0.0 & 0.0 & 0 & Float64 \\\\\n",
       "\t7 & Gm37323 & 0.0 & 0.0 & 0.0 & 0.0 & 0 & Float64 \\\\\n",
       "\t8 & Mrpl15 & 0.143806 & 0.0 & 0.0 & 1.45844 & 0 & Float64 \\\\\n",
       "\t9 & Lypla1 & 0.152868 & 0.0 & 0.0 & 1.45222 & 0 & Float64 \\\\\n",
       "\t10 & Tcea1 & 0.470846 & 0.0 & 0.374424 & 1.79552 & 0 & Float64 \\\\\n",
       "\t11 & Rgs20 & 0.499175 & 0.0 & 0.0 & 3.87644 & 0 & Float64 \\\\\n",
       "\t12 & Gm16041 & 0.0 & 0.0 & 0.0 & 0.0 & 0 & Float64 \\\\\n",
       "\t13 & Atp6v1h & 0.657204 & 0.0 & 0.635502 & 1.83934 & 0 & Float64 \\\\\n",
       "\t14 & Oprk1 & 0.037257 & 0.0 & 0.0 & 0.963785 & 0 & Float64 \\\\\n",
       "\t15 & Npbwr1 & 0.0 & 0.0 & 0.0 & 0.0 & 0 & Float64 \\\\\n",
       "\t16 & Rb1cc1 & 0.994144 & 0.0 & 1.0996 & 2.12575 & 0 & Float64 \\\\\n",
       "\t17 & 4732440D04Rik & 0.0861755 & 0.0 & 0.0 & 1.45844 & 0 & Float64 \\\\\n",
       "\t18 & Alkal1 & 0.0 & 0.0 & 0.0 & 0.0 & 0 & Float64 \\\\\n",
       "\t19 & St18 & 0.0182318 & 0.0 & 0.0 & 0.482095 & 0 & Float64 \\\\\n",
       "\t20 & Pcmtd1 & 0.902058 & 0.0 & 1.00036 & 2.38855 & 0 & Float64 \\\\\n",
       "\t21 & Gm26901 & 0.190208 & 0.0 & 0.0 & 1.56759 & 0 & Float64 \\\\\n",
       "\t22 & Gm30414 & 0.0 & 0.0 & 0.0 & 0.0 & 0 & Float64 \\\\\n",
       "\t23 & Sntg1 & 2.27115 & 0.0 & 2.28962 & 3.844 & 0 & Float64 \\\\\n",
       "\t24 & Rrs1 & 0.0 & 0.0 & 0.0 & 0.0 & 0 & Float64 \\\\\n",
       "\t$\\dots$ & $\\dots$ & $\\dots$ & $\\dots$ & $\\dots$ & $\\dots$ & $\\dots$ & $\\dots$ \\\\\n",
       "\\end{tabular}\n"
      ],
      "text/plain": [
       "\u001b[1m26226×7 DataFrame\u001b[0m\n",
       "\u001b[1m   Row \u001b[0m│\u001b[1m variable       \u001b[0m\u001b[1m mean      \u001b[0m\u001b[1m min     \u001b[0m\u001b[1m median   \u001b[0m\u001b[1m max      \u001b[0m\u001b[1m nmissing \u001b[0m\u001b[1m elt\u001b[0m ⋯\n",
       "\u001b[1m       \u001b[0m│\u001b[90m Symbol         \u001b[0m\u001b[90m Float64   \u001b[0m\u001b[90m Float64 \u001b[0m\u001b[90m Float64  \u001b[0m\u001b[90m Float64  \u001b[0m\u001b[90m Int64    \u001b[0m\u001b[90m Dat\u001b[0m ⋯\n",
       "───────┼────────────────────────────────────────────────────────────────────────\n",
       "     1 │ Xkr4            2.22804        0.0  2.19948   3.62105          0  Flo ⋯\n",
       "     2 │ Gm1992          0.0148774      0.0  0.0       0.432665         0  Flo\n",
       "     3 │ Gm19938         0.169924       0.0  0.0       1.53657          0  Flo\n",
       "     4 │ Gm37381         0.0241737      0.0  0.0       1.20868          0  Flo\n",
       "     5 │ Rp1             0.0            0.0  0.0       0.0              0  Flo ⋯\n",
       "     6 │ Sox17           0.0            0.0  0.0       0.0              0  Flo\n",
       "     7 │ Gm37323         0.0            0.0  0.0       0.0              0  Flo\n",
       "     8 │ Mrpl15          0.143806       0.0  0.0       1.45844          0  Flo\n",
       "   ⋮   │       ⋮             ⋮         ⋮        ⋮         ⋮         ⋮          ⋱\n",
       " 26220 │ Spry3           0.0271673      0.0  0.0       0.871556         0  Flo ⋯\n",
       " 26221 │ Tmlhe           0.178221       0.0  0.0       1.15224          0  Flo\n",
       " 26222 │ Vmn2r122        0.0            0.0  0.0       0.0              0  Flo\n",
       " 26223 │ 4933409K07Rik   0.0            0.0  0.0       0.0              0  Flo\n",
       " 26224 │ Gm10931         0.0            0.0  0.0       0.0              0  Flo ⋯\n",
       " 26225 │ CAAA01147332.1  0.0            0.0  0.0       0.0              0  Flo\n",
       " 26226 │ AC149090.1      1.44772        0.0  1.60537   2.73357          0  Flo\n",
       "\u001b[36m                                                 1 column and 26211 rows omitted\u001b[0m"
      ]
     },
     "metadata": {},
     "output_type": "display_data"
    }
   ],
   "source": [
    "describe(train_data_treated)"
   ]
  },
  {
   "attachments": {},
   "cell_type": "markdown",
   "metadata": {},
   "source": [
    "## 2- PCA"
   ]
  },
  {
   "cell_type": "code",
   "execution_count": null,
   "metadata": {},
   "outputs": [],
   "source": []
  }
 ],
 "metadata": {
  "kernelspec": {
   "display_name": "Julia 1.7.3",
   "language": "julia",
   "name": "julia-1.7"
  },
  "language_info": {
   "file_extension": ".jl",
   "mimetype": "application/julia",
   "name": "julia",
   "version": "1.7.3"
  },
  "orig_nbformat": 4,
  "vscode": {
   "interpreter": {
    "hash": "31f2aee4e71d21fbe5cf8b01ff0e069b9275f58929596ceb00d14d90e3e16cd6"
   }
  }
 },
 "nbformat": 4,
 "nbformat_minor": 2
}
